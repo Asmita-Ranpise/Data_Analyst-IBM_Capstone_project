{
  "nbformat": 4,
  "nbformat_minor": 0,
  "metadata": {
    "colab": {
      "name": "Data_technologies.ipynb",
      "provenance": [],
      "authorship_tag": "ABX9TyNxK18GjuWlxdlGTinmmMaz",
      "include_colab_link": true
    },
    "kernelspec": {
      "name": "python3",
      "display_name": "Python 3"
    },
    "language_info": {
      "name": "python"
    }
  },
  "cells": [
    {
      "cell_type": "markdown",
      "metadata": {
        "id": "view-in-github",
        "colab_type": "text"
      },
      "source": [
        "<a href=\"https://colab.research.google.com/github/Asmita-Ranpise/Data_Analyst-IBM_Capstone_project/blob/main/Data_technologies.ipynb\" target=\"_parent\"><img src=\"https://colab.research.google.com/assets/colab-badge.svg\" alt=\"Open In Colab\"/></a>"
      ]
    },
    {
      "cell_type": "code",
      "metadata": {
        "id": "2o-jAWKEXG0F"
      },
      "source": [
        "import numpy as np\n",
        "import pandas as pd\n",
        "import matplotlib.pyplot as plt\n",
        "import seaborn as sns\n",
        "import statsmodels.api as sm\n",
        "import datetime\n",
        "import scipy.stats\n",
        "\n",
        "%matplotlib inline\n",
        "#sets the default autosave frequency in seconds\n",
        "%autosave 60 \n",
        "sns.set_style('dark')\n",
        "sns.set(font_scale=1.2)\n",
        "\n",
        "import warnings\n",
        "warnings.filterwarnings('ignore')\n",
        "\n",
        "#import feature_engine.missing_data_imputers as mdi\n",
        "#from feature_engine.outlier_removers import Winsorizer\n",
        "#from feature_engine import categorical_encoders as ce\n",
        "\n",
        "pd.set_option('display.max_columns',None)\n",
        "#pd.set_option('display.max_rows',None)\n",
        "pd.set_option('display.width', 1000)\n",
        "\n",
        "np.random.seed(0)\n",
        "np.set_printoptions(suppress=True)"
      ],
      "execution_count": null,
      "outputs": []
    },
    {
      "cell_type": "code",
      "metadata": {
        "id": "nMlSFcS-YfZA"
      },
      "source": [
        "import pandas as pd\n",
        "\n",
        "\n",
        "df = pd.read_csv(\"data_technologies.csv\")"
      ],
      "execution_count": 5,
      "outputs": []
    },
    {
      "cell_type": "code",
      "metadata": {
        "colab": {
          "base_uri": "https://localhost:8080/",
          "height": 485
        },
        "id": "Gikj03X7YwhB",
        "outputId": "4295e675-d969-4ace-daf8-088cf81b5abf"
      },
      "source": [
        "df"
      ],
      "execution_count": 6,
      "outputs": [
        {
          "output_type": "execute_result",
          "data": {
            "text/html": [
              "<div>\n",
              "<style scoped>\n",
              "    .dataframe tbody tr th:only-of-type {\n",
              "        vertical-align: middle;\n",
              "    }\n",
              "\n",
              "    .dataframe tbody tr th {\n",
              "        vertical-align: top;\n",
              "    }\n",
              "\n",
              "    .dataframe thead th {\n",
              "        text-align: right;\n",
              "    }\n",
              "</style>\n",
              "<table border=\"1\" class=\"dataframe\">\n",
              "  <thead>\n",
              "    <tr style=\"text-align: right;\">\n",
              "      <th></th>\n",
              "      <th>Respondent</th>\n",
              "      <th>LanguageWorkedWith</th>\n",
              "      <th>LanguageDesireNextYear</th>\n",
              "      <th>DatabaseWorkedWith</th>\n",
              "      <th>DatabaseDesireNextYear</th>\n",
              "      <th>PlatformWorkedWith</th>\n",
              "      <th>PlatformDesireNextYear</th>\n",
              "      <th>WebFrameWorkedWith</th>\n",
              "      <th>WebFrameDesireNextYear</th>\n",
              "      <th>DevEnviron</th>\n",
              "      <th>OpSys</th>\n",
              "      <th>Containers</th>\n",
              "      <th>BlockchainOrg</th>\n",
              "      <th>BlockchainIs</th>\n",
              "    </tr>\n",
              "  </thead>\n",
              "  <tbody>\n",
              "    <tr>\n",
              "      <th>0</th>\n",
              "      <td>NaN</td>\n",
              "      <td>NaN</td>\n",
              "      <td>NaN</td>\n",
              "      <td>NaN</td>\n",
              "      <td>NaN</td>\n",
              "      <td>NaN</td>\n",
              "      <td>NaN</td>\n",
              "      <td>NaN</td>\n",
              "      <td>NaN</td>\n",
              "      <td>NaN</td>\n",
              "      <td>NaN</td>\n",
              "      <td>NaN</td>\n",
              "      <td>NaN</td>\n",
              "      <td>NaN</td>\n",
              "    </tr>\n",
              "    <tr>\n",
              "      <th>1</th>\n",
              "      <td>4.0</td>\n",
              "      <td>C</td>\n",
              "      <td>C</td>\n",
              "      <td>MySQL</td>\n",
              "      <td>MySQL</td>\n",
              "      <td>Linux</td>\n",
              "      <td>Linux</td>\n",
              "      <td>NaN</td>\n",
              "      <td>NaN</td>\n",
              "      <td>Eclipse</td>\n",
              "      <td>NaN</td>\n",
              "      <td>NaN</td>\n",
              "      <td>NaN</td>\n",
              "      <td>NaN</td>\n",
              "    </tr>\n",
              "    <tr>\n",
              "      <th>2</th>\n",
              "      <td>4.0</td>\n",
              "      <td>C++</td>\n",
              "      <td>C#</td>\n",
              "      <td>SQLite</td>\n",
              "      <td>SQLite</td>\n",
              "      <td>Windows</td>\n",
              "      <td>Windows</td>\n",
              "      <td>NaN</td>\n",
              "      <td>NaN</td>\n",
              "      <td>Vim</td>\n",
              "      <td>NaN</td>\n",
              "      <td>NaN</td>\n",
              "      <td>NaN</td>\n",
              "      <td>NaN</td>\n",
              "    </tr>\n",
              "    <tr>\n",
              "      <th>3</th>\n",
              "      <td>4.0</td>\n",
              "      <td>C#</td>\n",
              "      <td>JavaScript</td>\n",
              "      <td>NaN</td>\n",
              "      <td>NaN</td>\n",
              "      <td>NaN</td>\n",
              "      <td>NaN</td>\n",
              "      <td>NaN</td>\n",
              "      <td>NaN</td>\n",
              "      <td>Visual Studio</td>\n",
              "      <td>NaN</td>\n",
              "      <td>NaN</td>\n",
              "      <td>NaN</td>\n",
              "      <td>NaN</td>\n",
              "    </tr>\n",
              "    <tr>\n",
              "      <th>4</th>\n",
              "      <td>4.0</td>\n",
              "      <td>Python</td>\n",
              "      <td>SQL</td>\n",
              "      <td>NaN</td>\n",
              "      <td>NaN</td>\n",
              "      <td>NaN</td>\n",
              "      <td>NaN</td>\n",
              "      <td>NaN</td>\n",
              "      <td>NaN</td>\n",
              "      <td>Visual Studio Code</td>\n",
              "      <td>NaN</td>\n",
              "      <td>NaN</td>\n",
              "      <td>NaN</td>\n",
              "      <td>NaN</td>\n",
              "    </tr>\n",
              "    <tr>\n",
              "      <th>...</th>\n",
              "      <td>...</td>\n",
              "      <td>...</td>\n",
              "      <td>...</td>\n",
              "      <td>...</td>\n",
              "      <td>...</td>\n",
              "      <td>...</td>\n",
              "      <td>...</td>\n",
              "      <td>...</td>\n",
              "      <td>...</td>\n",
              "      <td>...</td>\n",
              "      <td>...</td>\n",
              "      <td>...</td>\n",
              "      <td>...</td>\n",
              "      <td>...</td>\n",
              "    </tr>\n",
              "    <tr>\n",
              "      <th>74585</th>\n",
              "      <td>25142.0</td>\n",
              "      <td>Go</td>\n",
              "      <td>Python</td>\n",
              "      <td>NaN</td>\n",
              "      <td>NaN</td>\n",
              "      <td>NaN</td>\n",
              "      <td>NaN</td>\n",
              "      <td>NaN</td>\n",
              "      <td>NaN</td>\n",
              "      <td>NaN</td>\n",
              "      <td>NaN</td>\n",
              "      <td>NaN</td>\n",
              "      <td>NaN</td>\n",
              "      <td>NaN</td>\n",
              "    </tr>\n",
              "    <tr>\n",
              "      <th>74586</th>\n",
              "      <td>25142.0</td>\n",
              "      <td>HTML/CSS</td>\n",
              "      <td>R</td>\n",
              "      <td>NaN</td>\n",
              "      <td>NaN</td>\n",
              "      <td>NaN</td>\n",
              "      <td>NaN</td>\n",
              "      <td>NaN</td>\n",
              "      <td>NaN</td>\n",
              "      <td>NaN</td>\n",
              "      <td>NaN</td>\n",
              "      <td>NaN</td>\n",
              "      <td>NaN</td>\n",
              "      <td>NaN</td>\n",
              "    </tr>\n",
              "    <tr>\n",
              "      <th>74587</th>\n",
              "      <td>25142.0</td>\n",
              "      <td>PHP</td>\n",
              "      <td>NaN</td>\n",
              "      <td>NaN</td>\n",
              "      <td>NaN</td>\n",
              "      <td>NaN</td>\n",
              "      <td>NaN</td>\n",
              "      <td>NaN</td>\n",
              "      <td>NaN</td>\n",
              "      <td>NaN</td>\n",
              "      <td>NaN</td>\n",
              "      <td>NaN</td>\n",
              "      <td>NaN</td>\n",
              "      <td>NaN</td>\n",
              "    </tr>\n",
              "    <tr>\n",
              "      <th>74588</th>\n",
              "      <td>25142.0</td>\n",
              "      <td>Python</td>\n",
              "      <td>NaN</td>\n",
              "      <td>NaN</td>\n",
              "      <td>NaN</td>\n",
              "      <td>NaN</td>\n",
              "      <td>NaN</td>\n",
              "      <td>NaN</td>\n",
              "      <td>NaN</td>\n",
              "      <td>NaN</td>\n",
              "      <td>NaN</td>\n",
              "      <td>NaN</td>\n",
              "      <td>NaN</td>\n",
              "      <td>NaN</td>\n",
              "    </tr>\n",
              "    <tr>\n",
              "      <th>74589</th>\n",
              "      <td>25142.0</td>\n",
              "      <td>R</td>\n",
              "      <td>NaN</td>\n",
              "      <td>NaN</td>\n",
              "      <td>NaN</td>\n",
              "      <td>NaN</td>\n",
              "      <td>NaN</td>\n",
              "      <td>NaN</td>\n",
              "      <td>NaN</td>\n",
              "      <td>NaN</td>\n",
              "      <td>NaN</td>\n",
              "      <td>NaN</td>\n",
              "      <td>NaN</td>\n",
              "      <td>NaN</td>\n",
              "    </tr>\n",
              "  </tbody>\n",
              "</table>\n",
              "<p>74590 rows × 14 columns</p>\n",
              "</div>"
            ],
            "text/plain": [
              "       Respondent LanguageWorkedWith  ... BlockchainOrg BlockchainIs\n",
              "0             NaN                NaN  ...           NaN          NaN\n",
              "1             4.0                  C  ...           NaN          NaN\n",
              "2             4.0                C++  ...           NaN          NaN\n",
              "3             4.0                 C#  ...           NaN          NaN\n",
              "4             4.0             Python  ...           NaN          NaN\n",
              "...           ...                ...  ...           ...          ...\n",
              "74585     25142.0                 Go  ...           NaN          NaN\n",
              "74586     25142.0           HTML/CSS  ...           NaN          NaN\n",
              "74587     25142.0                PHP  ...           NaN          NaN\n",
              "74588     25142.0             Python  ...           NaN          NaN\n",
              "74589     25142.0                  R  ...           NaN          NaN\n",
              "\n",
              "[74590 rows x 14 columns]"
            ]
          },
          "metadata": {},
          "execution_count": 6
        }
      ]
    },
    {
      "cell_type": "code",
      "metadata": {
        "colab": {
          "base_uri": "https://localhost:8080/"
        },
        "id": "WwGxCDBrY7T_",
        "outputId": "1d30e855-4cb6-490b-cdad-980884da2dee"
      },
      "source": [
        "df.info()"
      ],
      "execution_count": 7,
      "outputs": [
        {
          "output_type": "stream",
          "name": "stdout",
          "text": [
            "<class 'pandas.core.frame.DataFrame'>\n",
            "RangeIndex: 74590 entries, 0 to 74589\n",
            "Data columns (total 14 columns):\n",
            " #   Column                  Non-Null Count  Dtype  \n",
            "---  ------                  --------------  -----  \n",
            " 0   Respondent              74589 non-null  float64\n",
            " 1   LanguageWorkedWith      59792 non-null  object \n",
            " 2   LanguageDesireNextYear  55764 non-null  object \n",
            " 3   DatabaseWorkedWith      31375 non-null  object \n",
            " 4   DatabaseDesireNextYear  29575 non-null  object \n",
            " 5   PlatformWorkedWith      39208 non-null  object \n",
            " 6   PlatformDesireNextYear  44314 non-null  object \n",
            " 7   WebFrameWorkedWith      24803 non-null  object \n",
            " 8   WebFrameDesireNextYear  24567 non-null  object \n",
            " 9   DevEnviron              33306 non-null  object \n",
            " 10  OpSys                   0 non-null      float64\n",
            " 11  Containers              0 non-null      float64\n",
            " 12  BlockchainOrg           0 non-null      float64\n",
            " 13  BlockchainIs            0 non-null      float64\n",
            "dtypes: float64(5), object(9)\n",
            "memory usage: 8.0+ MB\n"
          ]
        }
      ]
    },
    {
      "cell_type": "code",
      "metadata": {
        "colab": {
          "base_uri": "https://localhost:8080/",
          "height": 294
        },
        "id": "NzTl0zY1Y_bM",
        "outputId": "0788eaa9-7bc7-46ec-c99f-7300ec349ad5"
      },
      "source": [
        "df.describe()"
      ],
      "execution_count": 8,
      "outputs": [
        {
          "output_type": "execute_result",
          "data": {
            "text/html": [
              "<div>\n",
              "<style scoped>\n",
              "    .dataframe tbody tr th:only-of-type {\n",
              "        vertical-align: middle;\n",
              "    }\n",
              "\n",
              "    .dataframe tbody tr th {\n",
              "        vertical-align: top;\n",
              "    }\n",
              "\n",
              "    .dataframe thead th {\n",
              "        text-align: right;\n",
              "    }\n",
              "</style>\n",
              "<table border=\"1\" class=\"dataframe\">\n",
              "  <thead>\n",
              "    <tr style=\"text-align: right;\">\n",
              "      <th></th>\n",
              "      <th>Respondent</th>\n",
              "      <th>OpSys</th>\n",
              "      <th>Containers</th>\n",
              "      <th>BlockchainOrg</th>\n",
              "      <th>BlockchainIs</th>\n",
              "    </tr>\n",
              "  </thead>\n",
              "  <tbody>\n",
              "    <tr>\n",
              "      <th>count</th>\n",
              "      <td>74589.000000</td>\n",
              "      <td>0.0</td>\n",
              "      <td>0.0</td>\n",
              "      <td>0.0</td>\n",
              "      <td>0.0</td>\n",
              "    </tr>\n",
              "    <tr>\n",
              "      <th>mean</th>\n",
              "      <td>12435.258228</td>\n",
              "      <td>NaN</td>\n",
              "      <td>NaN</td>\n",
              "      <td>NaN</td>\n",
              "      <td>NaN</td>\n",
              "    </tr>\n",
              "    <tr>\n",
              "      <th>std</th>\n",
              "      <td>7239.729251</td>\n",
              "      <td>NaN</td>\n",
              "      <td>NaN</td>\n",
              "      <td>NaN</td>\n",
              "      <td>NaN</td>\n",
              "    </tr>\n",
              "    <tr>\n",
              "      <th>min</th>\n",
              "      <td>4.000000</td>\n",
              "      <td>NaN</td>\n",
              "      <td>NaN</td>\n",
              "      <td>NaN</td>\n",
              "      <td>NaN</td>\n",
              "    </tr>\n",
              "    <tr>\n",
              "      <th>25%</th>\n",
              "      <td>6196.000000</td>\n",
              "      <td>NaN</td>\n",
              "      <td>NaN</td>\n",
              "      <td>NaN</td>\n",
              "      <td>NaN</td>\n",
              "    </tr>\n",
              "    <tr>\n",
              "      <th>50%</th>\n",
              "      <td>12422.000000</td>\n",
              "      <td>NaN</td>\n",
              "      <td>NaN</td>\n",
              "      <td>NaN</td>\n",
              "      <td>NaN</td>\n",
              "    </tr>\n",
              "    <tr>\n",
              "      <th>75%</th>\n",
              "      <td>18756.000000</td>\n",
              "      <td>NaN</td>\n",
              "      <td>NaN</td>\n",
              "      <td>NaN</td>\n",
              "      <td>NaN</td>\n",
              "    </tr>\n",
              "    <tr>\n",
              "      <th>max</th>\n",
              "      <td>25142.000000</td>\n",
              "      <td>NaN</td>\n",
              "      <td>NaN</td>\n",
              "      <td>NaN</td>\n",
              "      <td>NaN</td>\n",
              "    </tr>\n",
              "  </tbody>\n",
              "</table>\n",
              "</div>"
            ],
            "text/plain": [
              "         Respondent  OpSys  Containers  BlockchainOrg  BlockchainIs\n",
              "count  74589.000000    0.0         0.0            0.0           0.0\n",
              "mean   12435.258228    NaN         NaN            NaN           NaN\n",
              "std     7239.729251    NaN         NaN            NaN           NaN\n",
              "min        4.000000    NaN         NaN            NaN           NaN\n",
              "25%     6196.000000    NaN         NaN            NaN           NaN\n",
              "50%    12422.000000    NaN         NaN            NaN           NaN\n",
              "75%    18756.000000    NaN         NaN            NaN           NaN\n",
              "max    25142.000000    NaN         NaN            NaN           NaN"
            ]
          },
          "metadata": {},
          "execution_count": 8
        }
      ]
    },
    {
      "cell_type": "code",
      "metadata": {
        "colab": {
          "base_uri": "https://localhost:8080/"
        },
        "id": "Y7CrqbERZDQu",
        "outputId": "3e9011f9-e4e1-4c91-e1ef-0785bc0caf39"
      },
      "source": [
        "df.columns"
      ],
      "execution_count": 9,
      "outputs": [
        {
          "output_type": "execute_result",
          "data": {
            "text/plain": [
              "Index(['Respondent', 'LanguageWorkedWith', 'LanguageDesireNextYear',\n",
              "       'DatabaseWorkedWith', 'DatabaseDesireNextYear', 'PlatformWorkedWith',\n",
              "       'PlatformDesireNextYear', 'WebFrameWorkedWith',\n",
              "       'WebFrameDesireNextYear', 'DevEnviron', 'OpSys', 'Containers',\n",
              "       'BlockchainOrg', 'BlockchainIs'],\n",
              "      dtype='object')"
            ]
          },
          "metadata": {},
          "execution_count": 9
        }
      ]
    },
    {
      "cell_type": "code",
      "metadata": {
        "colab": {
          "base_uri": "https://localhost:8080/",
          "height": 466
        },
        "id": "SzCqhGugZHZ1",
        "outputId": "1285b25a-4987-4315-fc27-ee9b8f1f4ba4"
      },
      "source": [
        "df.groupby(by=\"Respondent\").count()"
      ],
      "execution_count": 10,
      "outputs": [
        {
          "output_type": "execute_result",
          "data": {
            "text/html": [
              "<div>\n",
              "<style scoped>\n",
              "    .dataframe tbody tr th:only-of-type {\n",
              "        vertical-align: middle;\n",
              "    }\n",
              "\n",
              "    .dataframe tbody tr th {\n",
              "        vertical-align: top;\n",
              "    }\n",
              "\n",
              "    .dataframe thead th {\n",
              "        text-align: right;\n",
              "    }\n",
              "</style>\n",
              "<table border=\"1\" class=\"dataframe\">\n",
              "  <thead>\n",
              "    <tr style=\"text-align: right;\">\n",
              "      <th></th>\n",
              "      <th>LanguageWorkedWith</th>\n",
              "      <th>LanguageDesireNextYear</th>\n",
              "      <th>DatabaseWorkedWith</th>\n",
              "      <th>DatabaseDesireNextYear</th>\n",
              "      <th>PlatformWorkedWith</th>\n",
              "      <th>PlatformDesireNextYear</th>\n",
              "      <th>WebFrameWorkedWith</th>\n",
              "      <th>WebFrameDesireNextYear</th>\n",
              "      <th>DevEnviron</th>\n",
              "      <th>OpSys</th>\n",
              "      <th>Containers</th>\n",
              "      <th>BlockchainOrg</th>\n",
              "      <th>BlockchainIs</th>\n",
              "    </tr>\n",
              "    <tr>\n",
              "      <th>Respondent</th>\n",
              "      <th></th>\n",
              "      <th></th>\n",
              "      <th></th>\n",
              "      <th></th>\n",
              "      <th></th>\n",
              "      <th></th>\n",
              "      <th></th>\n",
              "      <th></th>\n",
              "      <th></th>\n",
              "      <th></th>\n",
              "      <th></th>\n",
              "      <th></th>\n",
              "      <th></th>\n",
              "    </tr>\n",
              "  </thead>\n",
              "  <tbody>\n",
              "    <tr>\n",
              "      <th>4.0</th>\n",
              "      <td>5</td>\n",
              "      <td>4</td>\n",
              "      <td>2</td>\n",
              "      <td>2</td>\n",
              "      <td>2</td>\n",
              "      <td>2</td>\n",
              "      <td>0</td>\n",
              "      <td>0</td>\n",
              "      <td>4</td>\n",
              "      <td>0</td>\n",
              "      <td>0</td>\n",
              "      <td>0</td>\n",
              "      <td>0</td>\n",
              "    </tr>\n",
              "    <tr>\n",
              "      <th>9.0</th>\n",
              "      <td>11</td>\n",
              "      <td>10</td>\n",
              "      <td>3</td>\n",
              "      <td>3</td>\n",
              "      <td>6</td>\n",
              "      <td>7</td>\n",
              "      <td>3</td>\n",
              "      <td>3</td>\n",
              "      <td>1</td>\n",
              "      <td>0</td>\n",
              "      <td>0</td>\n",
              "      <td>0</td>\n",
              "      <td>0</td>\n",
              "    </tr>\n",
              "    <tr>\n",
              "      <th>13.0</th>\n",
              "      <td>6</td>\n",
              "      <td>7</td>\n",
              "      <td>4</td>\n",
              "      <td>3</td>\n",
              "      <td>11</td>\n",
              "      <td>8</td>\n",
              "      <td>5</td>\n",
              "      <td>2</td>\n",
              "      <td>4</td>\n",
              "      <td>0</td>\n",
              "      <td>0</td>\n",
              "      <td>0</td>\n",
              "      <td>0</td>\n",
              "    </tr>\n",
              "    <tr>\n",
              "      <th>16.0</th>\n",
              "      <td>6</td>\n",
              "      <td>6</td>\n",
              "      <td>3</td>\n",
              "      <td>4</td>\n",
              "      <td>0</td>\n",
              "      <td>3</td>\n",
              "      <td>3</td>\n",
              "      <td>3</td>\n",
              "      <td>2</td>\n",
              "      <td>0</td>\n",
              "      <td>0</td>\n",
              "      <td>0</td>\n",
              "      <td>0</td>\n",
              "    </tr>\n",
              "    <tr>\n",
              "      <th>17.0</th>\n",
              "      <td>4</td>\n",
              "      <td>6</td>\n",
              "      <td>2</td>\n",
              "      <td>4</td>\n",
              "      <td>5</td>\n",
              "      <td>1</td>\n",
              "      <td>3</td>\n",
              "      <td>5</td>\n",
              "      <td>2</td>\n",
              "      <td>0</td>\n",
              "      <td>0</td>\n",
              "      <td>0</td>\n",
              "      <td>0</td>\n",
              "    </tr>\n",
              "    <tr>\n",
              "      <th>...</th>\n",
              "      <td>...</td>\n",
              "      <td>...</td>\n",
              "      <td>...</td>\n",
              "      <td>...</td>\n",
              "      <td>...</td>\n",
              "      <td>...</td>\n",
              "      <td>...</td>\n",
              "      <td>...</td>\n",
              "      <td>...</td>\n",
              "      <td>...</td>\n",
              "      <td>...</td>\n",
              "      <td>...</td>\n",
              "      <td>...</td>\n",
              "    </tr>\n",
              "    <tr>\n",
              "      <th>25136.0</th>\n",
              "      <td>6</td>\n",
              "      <td>6</td>\n",
              "      <td>1</td>\n",
              "      <td>1</td>\n",
              "      <td>3</td>\n",
              "      <td>2</td>\n",
              "      <td>2</td>\n",
              "      <td>1</td>\n",
              "      <td>4</td>\n",
              "      <td>0</td>\n",
              "      <td>0</td>\n",
              "      <td>0</td>\n",
              "      <td>0</td>\n",
              "    </tr>\n",
              "    <tr>\n",
              "      <th>25137.0</th>\n",
              "      <td>4</td>\n",
              "      <td>4</td>\n",
              "      <td>1</td>\n",
              "      <td>3</td>\n",
              "      <td>1</td>\n",
              "      <td>3</td>\n",
              "      <td>0</td>\n",
              "      <td>1</td>\n",
              "      <td>4</td>\n",
              "      <td>0</td>\n",
              "      <td>0</td>\n",
              "      <td>0</td>\n",
              "      <td>0</td>\n",
              "    </tr>\n",
              "    <tr>\n",
              "      <th>25138.0</th>\n",
              "      <td>11</td>\n",
              "      <td>2</td>\n",
              "      <td>1</td>\n",
              "      <td>0</td>\n",
              "      <td>3</td>\n",
              "      <td>2</td>\n",
              "      <td>0</td>\n",
              "      <td>0</td>\n",
              "      <td>2</td>\n",
              "      <td>0</td>\n",
              "      <td>0</td>\n",
              "      <td>0</td>\n",
              "      <td>0</td>\n",
              "    </tr>\n",
              "    <tr>\n",
              "      <th>25141.0</th>\n",
              "      <td>10</td>\n",
              "      <td>3</td>\n",
              "      <td>2</td>\n",
              "      <td>4</td>\n",
              "      <td>3</td>\n",
              "      <td>6</td>\n",
              "      <td>4</td>\n",
              "      <td>3</td>\n",
              "      <td>3</td>\n",
              "      <td>0</td>\n",
              "      <td>0</td>\n",
              "      <td>0</td>\n",
              "      <td>0</td>\n",
              "    </tr>\n",
              "    <tr>\n",
              "      <th>25142.0</th>\n",
              "      <td>8</td>\n",
              "      <td>5</td>\n",
              "      <td>1</td>\n",
              "      <td>1</td>\n",
              "      <td>2</td>\n",
              "      <td>3</td>\n",
              "      <td>0</td>\n",
              "      <td>0</td>\n",
              "      <td>1</td>\n",
              "      <td>0</td>\n",
              "      <td>0</td>\n",
              "      <td>0</td>\n",
              "      <td>0</td>\n",
              "    </tr>\n",
              "  </tbody>\n",
              "</table>\n",
              "<p>11398 rows × 13 columns</p>\n",
              "</div>"
            ],
            "text/plain": [
              "            LanguageWorkedWith  ...  BlockchainIs\n",
              "Respondent                      ...              \n",
              "4.0                          5  ...             0\n",
              "9.0                         11  ...             0\n",
              "13.0                         6  ...             0\n",
              "16.0                         6  ...             0\n",
              "17.0                         4  ...             0\n",
              "...                        ...  ...           ...\n",
              "25136.0                      6  ...             0\n",
              "25137.0                      4  ...             0\n",
              "25138.0                     11  ...             0\n",
              "25141.0                     10  ...             0\n",
              "25142.0                      8  ...             0\n",
              "\n",
              "[11398 rows x 13 columns]"
            ]
          },
          "metadata": {},
          "execution_count": 10
        }
      ]
    },
    {
      "cell_type": "code",
      "metadata": {
        "id": "NQpmItU5ZKC7"
      },
      "source": [
        "respondent = pd.DataFrame(df.groupby(by=\"Respondent\").count())"
      ],
      "execution_count": 11,
      "outputs": []
    },
    {
      "cell_type": "code",
      "metadata": {
        "colab": {
          "base_uri": "https://localhost:8080/",
          "height": 435
        },
        "id": "5_IjzvkzZO2q",
        "outputId": "c0465e11-892e-4db5-b3c7-7ead6bda0919"
      },
      "source": [
        "respondent.reset_index()"
      ],
      "execution_count": 12,
      "outputs": [
        {
          "output_type": "execute_result",
          "data": {
            "text/html": [
              "<div>\n",
              "<style scoped>\n",
              "    .dataframe tbody tr th:only-of-type {\n",
              "        vertical-align: middle;\n",
              "    }\n",
              "\n",
              "    .dataframe tbody tr th {\n",
              "        vertical-align: top;\n",
              "    }\n",
              "\n",
              "    .dataframe thead th {\n",
              "        text-align: right;\n",
              "    }\n",
              "</style>\n",
              "<table border=\"1\" class=\"dataframe\">\n",
              "  <thead>\n",
              "    <tr style=\"text-align: right;\">\n",
              "      <th></th>\n",
              "      <th>Respondent</th>\n",
              "      <th>LanguageWorkedWith</th>\n",
              "      <th>LanguageDesireNextYear</th>\n",
              "      <th>DatabaseWorkedWith</th>\n",
              "      <th>DatabaseDesireNextYear</th>\n",
              "      <th>PlatformWorkedWith</th>\n",
              "      <th>PlatformDesireNextYear</th>\n",
              "      <th>WebFrameWorkedWith</th>\n",
              "      <th>WebFrameDesireNextYear</th>\n",
              "      <th>DevEnviron</th>\n",
              "      <th>OpSys</th>\n",
              "      <th>Containers</th>\n",
              "      <th>BlockchainOrg</th>\n",
              "      <th>BlockchainIs</th>\n",
              "    </tr>\n",
              "  </thead>\n",
              "  <tbody>\n",
              "    <tr>\n",
              "      <th>0</th>\n",
              "      <td>4.0</td>\n",
              "      <td>5</td>\n",
              "      <td>4</td>\n",
              "      <td>2</td>\n",
              "      <td>2</td>\n",
              "      <td>2</td>\n",
              "      <td>2</td>\n",
              "      <td>0</td>\n",
              "      <td>0</td>\n",
              "      <td>4</td>\n",
              "      <td>0</td>\n",
              "      <td>0</td>\n",
              "      <td>0</td>\n",
              "      <td>0</td>\n",
              "    </tr>\n",
              "    <tr>\n",
              "      <th>1</th>\n",
              "      <td>9.0</td>\n",
              "      <td>11</td>\n",
              "      <td>10</td>\n",
              "      <td>3</td>\n",
              "      <td>3</td>\n",
              "      <td>6</td>\n",
              "      <td>7</td>\n",
              "      <td>3</td>\n",
              "      <td>3</td>\n",
              "      <td>1</td>\n",
              "      <td>0</td>\n",
              "      <td>0</td>\n",
              "      <td>0</td>\n",
              "      <td>0</td>\n",
              "    </tr>\n",
              "    <tr>\n",
              "      <th>2</th>\n",
              "      <td>13.0</td>\n",
              "      <td>6</td>\n",
              "      <td>7</td>\n",
              "      <td>4</td>\n",
              "      <td>3</td>\n",
              "      <td>11</td>\n",
              "      <td>8</td>\n",
              "      <td>5</td>\n",
              "      <td>2</td>\n",
              "      <td>4</td>\n",
              "      <td>0</td>\n",
              "      <td>0</td>\n",
              "      <td>0</td>\n",
              "      <td>0</td>\n",
              "    </tr>\n",
              "    <tr>\n",
              "      <th>3</th>\n",
              "      <td>16.0</td>\n",
              "      <td>6</td>\n",
              "      <td>6</td>\n",
              "      <td>3</td>\n",
              "      <td>4</td>\n",
              "      <td>0</td>\n",
              "      <td>3</td>\n",
              "      <td>3</td>\n",
              "      <td>3</td>\n",
              "      <td>2</td>\n",
              "      <td>0</td>\n",
              "      <td>0</td>\n",
              "      <td>0</td>\n",
              "      <td>0</td>\n",
              "    </tr>\n",
              "    <tr>\n",
              "      <th>4</th>\n",
              "      <td>17.0</td>\n",
              "      <td>4</td>\n",
              "      <td>6</td>\n",
              "      <td>2</td>\n",
              "      <td>4</td>\n",
              "      <td>5</td>\n",
              "      <td>1</td>\n",
              "      <td>3</td>\n",
              "      <td>5</td>\n",
              "      <td>2</td>\n",
              "      <td>0</td>\n",
              "      <td>0</td>\n",
              "      <td>0</td>\n",
              "      <td>0</td>\n",
              "    </tr>\n",
              "    <tr>\n",
              "      <th>...</th>\n",
              "      <td>...</td>\n",
              "      <td>...</td>\n",
              "      <td>...</td>\n",
              "      <td>...</td>\n",
              "      <td>...</td>\n",
              "      <td>...</td>\n",
              "      <td>...</td>\n",
              "      <td>...</td>\n",
              "      <td>...</td>\n",
              "      <td>...</td>\n",
              "      <td>...</td>\n",
              "      <td>...</td>\n",
              "      <td>...</td>\n",
              "      <td>...</td>\n",
              "    </tr>\n",
              "    <tr>\n",
              "      <th>11393</th>\n",
              "      <td>25136.0</td>\n",
              "      <td>6</td>\n",
              "      <td>6</td>\n",
              "      <td>1</td>\n",
              "      <td>1</td>\n",
              "      <td>3</td>\n",
              "      <td>2</td>\n",
              "      <td>2</td>\n",
              "      <td>1</td>\n",
              "      <td>4</td>\n",
              "      <td>0</td>\n",
              "      <td>0</td>\n",
              "      <td>0</td>\n",
              "      <td>0</td>\n",
              "    </tr>\n",
              "    <tr>\n",
              "      <th>11394</th>\n",
              "      <td>25137.0</td>\n",
              "      <td>4</td>\n",
              "      <td>4</td>\n",
              "      <td>1</td>\n",
              "      <td>3</td>\n",
              "      <td>1</td>\n",
              "      <td>3</td>\n",
              "      <td>0</td>\n",
              "      <td>1</td>\n",
              "      <td>4</td>\n",
              "      <td>0</td>\n",
              "      <td>0</td>\n",
              "      <td>0</td>\n",
              "      <td>0</td>\n",
              "    </tr>\n",
              "    <tr>\n",
              "      <th>11395</th>\n",
              "      <td>25138.0</td>\n",
              "      <td>11</td>\n",
              "      <td>2</td>\n",
              "      <td>1</td>\n",
              "      <td>0</td>\n",
              "      <td>3</td>\n",
              "      <td>2</td>\n",
              "      <td>0</td>\n",
              "      <td>0</td>\n",
              "      <td>2</td>\n",
              "      <td>0</td>\n",
              "      <td>0</td>\n",
              "      <td>0</td>\n",
              "      <td>0</td>\n",
              "    </tr>\n",
              "    <tr>\n",
              "      <th>11396</th>\n",
              "      <td>25141.0</td>\n",
              "      <td>10</td>\n",
              "      <td>3</td>\n",
              "      <td>2</td>\n",
              "      <td>4</td>\n",
              "      <td>3</td>\n",
              "      <td>6</td>\n",
              "      <td>4</td>\n",
              "      <td>3</td>\n",
              "      <td>3</td>\n",
              "      <td>0</td>\n",
              "      <td>0</td>\n",
              "      <td>0</td>\n",
              "      <td>0</td>\n",
              "    </tr>\n",
              "    <tr>\n",
              "      <th>11397</th>\n",
              "      <td>25142.0</td>\n",
              "      <td>8</td>\n",
              "      <td>5</td>\n",
              "      <td>1</td>\n",
              "      <td>1</td>\n",
              "      <td>2</td>\n",
              "      <td>3</td>\n",
              "      <td>0</td>\n",
              "      <td>0</td>\n",
              "      <td>1</td>\n",
              "      <td>0</td>\n",
              "      <td>0</td>\n",
              "      <td>0</td>\n",
              "      <td>0</td>\n",
              "    </tr>\n",
              "  </tbody>\n",
              "</table>\n",
              "<p>11398 rows × 14 columns</p>\n",
              "</div>"
            ],
            "text/plain": [
              "       Respondent  LanguageWorkedWith  ...  BlockchainOrg  BlockchainIs\n",
              "0             4.0                   5  ...              0             0\n",
              "1             9.0                  11  ...              0             0\n",
              "2            13.0                   6  ...              0             0\n",
              "3            16.0                   6  ...              0             0\n",
              "4            17.0                   4  ...              0             0\n",
              "...           ...                 ...  ...            ...           ...\n",
              "11393     25136.0                   6  ...              0             0\n",
              "11394     25137.0                   4  ...              0             0\n",
              "11395     25138.0                  11  ...              0             0\n",
              "11396     25141.0                  10  ...              0             0\n",
              "11397     25142.0                   8  ...              0             0\n",
              "\n",
              "[11398 rows x 14 columns]"
            ]
          },
          "metadata": {},
          "execution_count": 12
        }
      ]
    },
    {
      "cell_type": "code",
      "metadata": {
        "colab": {
          "base_uri": "https://localhost:8080/"
        },
        "id": "UNxjpjZVZY_3",
        "outputId": "c99071ef-159e-4f15-8254-77a87b78bb26"
      },
      "source": [
        "df.groupby(by=\"LanguageWorkedWith\")[\"Respondent\"].count()"
      ],
      "execution_count": 13,
      "outputs": [
        {
          "output_type": "execute_result",
          "data": {
            "text/plain": [
              "LanguageWorkedWith\n",
              "Assembly                  437\n",
              "Bash/Shell/PowerShell    4642\n",
              "C                        1578\n",
              "C#                       4288\n",
              "C++                      1946\n",
              "Clojure                   164\n",
              "Dart                      237\n",
              "Elixir                    187\n",
              "Erlang                     98\n",
              "F#                        158\n",
              "Go                       1114\n",
              "HTML/CSS                 7830\n",
              "Java                     4506\n",
              "JavaScript               8687\n",
              "Kotlin                    751\n",
              "Objective-C               518\n",
              "Other(s):                 840\n",
              "PHP                      2913\n",
              "Python                   4542\n",
              "R                         585\n",
              "Ruby                     1149\n",
              "Rust                      324\n",
              "SQL                      7106\n",
              "Scala                     492\n",
              "Swift                     707\n",
              "TypeScript               3232\n",
              "VBA                       628\n",
              "WebAssembly               133\n",
              "Name: Respondent, dtype: int64"
            ]
          },
          "metadata": {},
          "execution_count": 13
        }
      ]
    },
    {
      "cell_type": "code",
      "metadata": {
        "colab": {
          "base_uri": "https://localhost:8080/",
          "height": 940
        },
        "id": "i4MJWBB6ZfmD",
        "outputId": "2228fc9b-ef4f-46e2-880e-9c185cf6cf09"
      },
      "source": [
        "language1 = pd.DataFrame(df.groupby(by=\"LanguageWorkedWith\")[\"Respondent\"].count())\n",
        "\n",
        "language1.sort_values(by=\"Respondent\",ascending=False)"
      ],
      "execution_count": 14,
      "outputs": [
        {
          "output_type": "execute_result",
          "data": {
            "text/html": [
              "<div>\n",
              "<style scoped>\n",
              "    .dataframe tbody tr th:only-of-type {\n",
              "        vertical-align: middle;\n",
              "    }\n",
              "\n",
              "    .dataframe tbody tr th {\n",
              "        vertical-align: top;\n",
              "    }\n",
              "\n",
              "    .dataframe thead th {\n",
              "        text-align: right;\n",
              "    }\n",
              "</style>\n",
              "<table border=\"1\" class=\"dataframe\">\n",
              "  <thead>\n",
              "    <tr style=\"text-align: right;\">\n",
              "      <th></th>\n",
              "      <th>Respondent</th>\n",
              "    </tr>\n",
              "    <tr>\n",
              "      <th>LanguageWorkedWith</th>\n",
              "      <th></th>\n",
              "    </tr>\n",
              "  </thead>\n",
              "  <tbody>\n",
              "    <tr>\n",
              "      <th>JavaScript</th>\n",
              "      <td>8687</td>\n",
              "    </tr>\n",
              "    <tr>\n",
              "      <th>HTML/CSS</th>\n",
              "      <td>7830</td>\n",
              "    </tr>\n",
              "    <tr>\n",
              "      <th>SQL</th>\n",
              "      <td>7106</td>\n",
              "    </tr>\n",
              "    <tr>\n",
              "      <th>Bash/Shell/PowerShell</th>\n",
              "      <td>4642</td>\n",
              "    </tr>\n",
              "    <tr>\n",
              "      <th>Python</th>\n",
              "      <td>4542</td>\n",
              "    </tr>\n",
              "    <tr>\n",
              "      <th>Java</th>\n",
              "      <td>4506</td>\n",
              "    </tr>\n",
              "    <tr>\n",
              "      <th>C#</th>\n",
              "      <td>4288</td>\n",
              "    </tr>\n",
              "    <tr>\n",
              "      <th>TypeScript</th>\n",
              "      <td>3232</td>\n",
              "    </tr>\n",
              "    <tr>\n",
              "      <th>PHP</th>\n",
              "      <td>2913</td>\n",
              "    </tr>\n",
              "    <tr>\n",
              "      <th>C++</th>\n",
              "      <td>1946</td>\n",
              "    </tr>\n",
              "    <tr>\n",
              "      <th>C</th>\n",
              "      <td>1578</td>\n",
              "    </tr>\n",
              "    <tr>\n",
              "      <th>Ruby</th>\n",
              "      <td>1149</td>\n",
              "    </tr>\n",
              "    <tr>\n",
              "      <th>Go</th>\n",
              "      <td>1114</td>\n",
              "    </tr>\n",
              "    <tr>\n",
              "      <th>Other(s):</th>\n",
              "      <td>840</td>\n",
              "    </tr>\n",
              "    <tr>\n",
              "      <th>Kotlin</th>\n",
              "      <td>751</td>\n",
              "    </tr>\n",
              "    <tr>\n",
              "      <th>Swift</th>\n",
              "      <td>707</td>\n",
              "    </tr>\n",
              "    <tr>\n",
              "      <th>VBA</th>\n",
              "      <td>628</td>\n",
              "    </tr>\n",
              "    <tr>\n",
              "      <th>R</th>\n",
              "      <td>585</td>\n",
              "    </tr>\n",
              "    <tr>\n",
              "      <th>Objective-C</th>\n",
              "      <td>518</td>\n",
              "    </tr>\n",
              "    <tr>\n",
              "      <th>Scala</th>\n",
              "      <td>492</td>\n",
              "    </tr>\n",
              "    <tr>\n",
              "      <th>Assembly</th>\n",
              "      <td>437</td>\n",
              "    </tr>\n",
              "    <tr>\n",
              "      <th>Rust</th>\n",
              "      <td>324</td>\n",
              "    </tr>\n",
              "    <tr>\n",
              "      <th>Dart</th>\n",
              "      <td>237</td>\n",
              "    </tr>\n",
              "    <tr>\n",
              "      <th>Elixir</th>\n",
              "      <td>187</td>\n",
              "    </tr>\n",
              "    <tr>\n",
              "      <th>Clojure</th>\n",
              "      <td>164</td>\n",
              "    </tr>\n",
              "    <tr>\n",
              "      <th>F#</th>\n",
              "      <td>158</td>\n",
              "    </tr>\n",
              "    <tr>\n",
              "      <th>WebAssembly</th>\n",
              "      <td>133</td>\n",
              "    </tr>\n",
              "    <tr>\n",
              "      <th>Erlang</th>\n",
              "      <td>98</td>\n",
              "    </tr>\n",
              "  </tbody>\n",
              "</table>\n",
              "</div>"
            ],
            "text/plain": [
              "                       Respondent\n",
              "LanguageWorkedWith               \n",
              "JavaScript                   8687\n",
              "HTML/CSS                     7830\n",
              "SQL                          7106\n",
              "Bash/Shell/PowerShell        4642\n",
              "Python                       4542\n",
              "Java                         4506\n",
              "C#                           4288\n",
              "TypeScript                   3232\n",
              "PHP                          2913\n",
              "C++                          1946\n",
              "C                            1578\n",
              "Ruby                         1149\n",
              "Go                           1114\n",
              "Other(s):                     840\n",
              "Kotlin                        751\n",
              "Swift                         707\n",
              "VBA                           628\n",
              "R                             585\n",
              "Objective-C                   518\n",
              "Scala                         492\n",
              "Assembly                      437\n",
              "Rust                          324\n",
              "Dart                          237\n",
              "Elixir                        187\n",
              "Clojure                       164\n",
              "F#                            158\n",
              "WebAssembly                   133\n",
              "Erlang                         98"
            ]
          },
          "metadata": {},
          "execution_count": 14
        }
      ]
    },
    {
      "cell_type": "code",
      "metadata": {
        "colab": {
          "base_uri": "https://localhost:8080/",
          "height": 202
        },
        "id": "vbpdpDNOZmJ_",
        "outputId": "81135a8a-16fd-4b89-9ba1-bb779fc1ea0c"
      },
      "source": [
        "top5lang1 = pd.DataFrame(language1.nlargest(5, \"Respondent\"))\n",
        "\n",
        "top5lang1.reset_index(inplace=True)\n",
        "\n",
        "top5lang1.rename(columns={\"Respondent\":\"Count\"},inplace=True)\n",
        "top5lang1"
      ],
      "execution_count": 15,
      "outputs": [
        {
          "output_type": "execute_result",
          "data": {
            "text/html": [
              "<div>\n",
              "<style scoped>\n",
              "    .dataframe tbody tr th:only-of-type {\n",
              "        vertical-align: middle;\n",
              "    }\n",
              "\n",
              "    .dataframe tbody tr th {\n",
              "        vertical-align: top;\n",
              "    }\n",
              "\n",
              "    .dataframe thead th {\n",
              "        text-align: right;\n",
              "    }\n",
              "</style>\n",
              "<table border=\"1\" class=\"dataframe\">\n",
              "  <thead>\n",
              "    <tr style=\"text-align: right;\">\n",
              "      <th></th>\n",
              "      <th>LanguageWorkedWith</th>\n",
              "      <th>Count</th>\n",
              "    </tr>\n",
              "  </thead>\n",
              "  <tbody>\n",
              "    <tr>\n",
              "      <th>0</th>\n",
              "      <td>JavaScript</td>\n",
              "      <td>8687</td>\n",
              "    </tr>\n",
              "    <tr>\n",
              "      <th>1</th>\n",
              "      <td>HTML/CSS</td>\n",
              "      <td>7830</td>\n",
              "    </tr>\n",
              "    <tr>\n",
              "      <th>2</th>\n",
              "      <td>SQL</td>\n",
              "      <td>7106</td>\n",
              "    </tr>\n",
              "    <tr>\n",
              "      <th>3</th>\n",
              "      <td>Bash/Shell/PowerShell</td>\n",
              "      <td>4642</td>\n",
              "    </tr>\n",
              "    <tr>\n",
              "      <th>4</th>\n",
              "      <td>Python</td>\n",
              "      <td>4542</td>\n",
              "    </tr>\n",
              "  </tbody>\n",
              "</table>\n",
              "</div>"
            ],
            "text/plain": [
              "      LanguageWorkedWith  Count\n",
              "0             JavaScript   8687\n",
              "1               HTML/CSS   7830\n",
              "2                    SQL   7106\n",
              "3  Bash/Shell/PowerShell   4642\n",
              "4                 Python   4542"
            ]
          },
          "metadata": {},
          "execution_count": 15
        }
      ]
    },
    {
      "cell_type": "code",
      "metadata": {
        "colab": {
          "base_uri": "https://localhost:8080/",
          "height": 450
        },
        "id": "aB-tVU51ZsQQ",
        "outputId": "685f0445-d717-48f7-fbc7-865e6c142211"
      },
      "source": [
        "import matplotlib.pyplot as plt\n",
        "\n",
        "top5lang1.plot(kind=\"bar\", x=\"LanguageWorkedWith\", y=\"Count\", figsize=(10,5))\n",
        "plt.title(\"Top 5 Programming Language\")\n",
        "plt.show()"
      ],
      "execution_count": 17,
      "outputs": [
        {
          "output_type": "display_data",
          "data": {
            "image/png": "[encoded data removed]",
            "text/plain": [
              "<Figure size 720x360 with 1 Axes>"
            ]
          },
          "metadata": {
            "needs_background": "light"
          }
        }
      ]
    },
    {
      "cell_type": "code",
      "metadata": {
        "colab": {
          "base_uri": "https://localhost:8080/"
        },
        "id": "7Np4jetaZv8v",
        "outputId": "f0829368-6155-4f26-a579-ee33117687bd"
      },
      "source": [
        "df.groupby(by=\"LanguageDesireNextYear\")[\"Respondent\"].count()"
      ],
      "execution_count": 18,
      "outputs": [
        {
          "output_type": "execute_result",
          "data": {
            "text/plain": [
              "LanguageDesireNextYear\n",
              "Assembly                  336\n",
              "Bash/Shell/PowerShell    3097\n",
              "C                        1028\n",
              "C#                       3591\n",
              "C++                      1633\n",
              "Clojure                   413\n",
              "Dart                      610\n",
              "Elixir                    620\n",
              "Erlang                    310\n",
              "F#                        621\n",
              "Go                       2759\n",
              "HTML/CSS                 5328\n",
              "Java                     2953\n",
              "JavaScript               6630\n",
              "Kotlin                   1890\n",
              "Objective-C               310\n",
              "Other(s):                 836\n",
              "PHP                      1457\n",
              "Python                   5239\n",
              "R                         850\n",
              "Ruby                     1029\n",
              "Rust                     1520\n",
              "SQL                      5012\n",
              "Scala                     879\n",
              "Swift                    1179\n",
              "TypeScript               4088\n",
              "VBA                       149\n",
              "WebAssembly              1397\n",
              "Name: Respondent, dtype: int64"
            ]
          },
          "metadata": {},
          "execution_count": 18
        }
      ]
    },
    {
      "cell_type": "code",
      "metadata": {
        "colab": {
          "base_uri": "https://localhost:8080/",
          "height": 940
        },
        "id": "U9zN5aUTZ-sb",
        "outputId": "72470a9f-687a-4396-a73f-95d642969ba4"
      },
      "source": [
        "language2 = pd.DataFrame(df.groupby(by=\"LanguageDesireNextYear\")[\"Respondent\"].count())\n",
        "\n",
        "language2.sort_values(by=\"Respondent\",ascending=False)"
      ],
      "execution_count": 19,
      "outputs": [
        {
          "output_type": "execute_result",
          "data": {
            "text/html": [
              "<div>\n",
              "<style scoped>\n",
              "    .dataframe tbody tr th:only-of-type {\n",
              "        vertical-align: middle;\n",
              "    }\n",
              "\n",
              "    .dataframe tbody tr th {\n",
              "        vertical-align: top;\n",
              "    }\n",
              "\n",
              "    .dataframe thead th {\n",
              "        text-align: right;\n",
              "    }\n",
              "</style>\n",
              "<table border=\"1\" class=\"dataframe\">\n",
              "  <thead>\n",
              "    <tr style=\"text-align: right;\">\n",
              "      <th></th>\n",
              "      <th>Respondent</th>\n",
              "    </tr>\n",
              "    <tr>\n",
              "      <th>LanguageDesireNextYear</th>\n",
              "      <th></th>\n",
              "    </tr>\n",
              "  </thead>\n",
              "  <tbody>\n",
              "    <tr>\n",
              "      <th>JavaScript</th>\n",
              "      <td>6630</td>\n",
              "    </tr>\n",
              "    <tr>\n",
              "      <th>HTML/CSS</th>\n",
              "      <td>5328</td>\n",
              "    </tr>\n",
              "    <tr>\n",
              "      <th>Python</th>\n",
              "      <td>5239</td>\n",
              "    </tr>\n",
              "    <tr>\n",
              "      <th>SQL</th>\n",
              "      <td>5012</td>\n",
              "    </tr>\n",
              "    <tr>\n",
              "      <th>TypeScript</th>\n",
              "      <td>4088</td>\n",
              "    </tr>\n",
              "    <tr>\n",
              "      <th>C#</th>\n",
              "      <td>3591</td>\n",
              "    </tr>\n",
              "    <tr>\n",
              "      <th>Bash/Shell/PowerShell</th>\n",
              "      <td>3097</td>\n",
              "    </tr>\n",
              "    <tr>\n",
              "      <th>Java</th>\n",
              "      <td>2953</td>\n",
              "    </tr>\n",
              "    <tr>\n",
              "      <th>Go</th>\n",
              "      <td>2759</td>\n",
              "    </tr>\n",
              "    <tr>\n",
              "      <th>Kotlin</th>\n",
              "      <td>1890</td>\n",
              "    </tr>\n",
              "    <tr>\n",
              "      <th>C++</th>\n",
              "      <td>1633</td>\n",
              "    </tr>\n",
              "    <tr>\n",
              "      <th>Rust</th>\n",
              "      <td>1520</td>\n",
              "    </tr>\n",
              "    <tr>\n",
              "      <th>PHP</th>\n",
              "      <td>1457</td>\n",
              "    </tr>\n",
              "    <tr>\n",
              "      <th>WebAssembly</th>\n",
              "      <td>1397</td>\n",
              "    </tr>\n",
              "    <tr>\n",
              "      <th>Swift</th>\n",
              "      <td>1179</td>\n",
              "    </tr>\n",
              "    <tr>\n",
              "      <th>Ruby</th>\n",
              "      <td>1029</td>\n",
              "    </tr>\n",
              "    <tr>\n",
              "      <th>C</th>\n",
              "      <td>1028</td>\n",
              "    </tr>\n",
              "    <tr>\n",
              "      <th>Scala</th>\n",
              "      <td>879</td>\n",
              "    </tr>\n",
              "    <tr>\n",
              "      <th>R</th>\n",
              "      <td>850</td>\n",
              "    </tr>\n",
              "    <tr>\n",
              "      <th>Other(s):</th>\n",
              "      <td>836</td>\n",
              "    </tr>\n",
              "    <tr>\n",
              "      <th>F#</th>\n",
              "      <td>621</td>\n",
              "    </tr>\n",
              "    <tr>\n",
              "      <th>Elixir</th>\n",
              "      <td>620</td>\n",
              "    </tr>\n",
              "    <tr>\n",
              "      <th>Dart</th>\n",
              "      <td>610</td>\n",
              "    </tr>\n",
              "    <tr>\n",
              "      <th>Clojure</th>\n",
              "      <td>413</td>\n",
              "    </tr>\n",
              "    <tr>\n",
              "      <th>Assembly</th>\n",
              "      <td>336</td>\n",
              "    </tr>\n",
              "    <tr>\n",
              "      <th>Objective-C</th>\n",
              "      <td>310</td>\n",
              "    </tr>\n",
              "    <tr>\n",
              "      <th>Erlang</th>\n",
              "      <td>310</td>\n",
              "    </tr>\n",
              "    <tr>\n",
              "      <th>VBA</th>\n",
              "      <td>149</td>\n",
              "    </tr>\n",
              "  </tbody>\n",
              "</table>\n",
              "</div>"
            ],
            "text/plain": [
              "                        Respondent\n",
              "LanguageDesireNextYear            \n",
              "JavaScript                    6630\n",
              "HTML/CSS                      5328\n",
              "Python                        5239\n",
              "SQL                           5012\n",
              "TypeScript                    4088\n",
              "C#                            3591\n",
              "Bash/Shell/PowerShell         3097\n",
              "Java                          2953\n",
              "Go                            2759\n",
              "Kotlin                        1890\n",
              "C++                           1633\n",
              "Rust                          1520\n",
              "PHP                           1457\n",
              "WebAssembly                   1397\n",
              "Swift                         1179\n",
              "Ruby                          1029\n",
              "C                             1028\n",
              "Scala                          879\n",
              "R                              850\n",
              "Other(s):                      836\n",
              "F#                             621\n",
              "Elixir                         620\n",
              "Dart                           610\n",
              "Clojure                        413\n",
              "Assembly                       336\n",
              "Objective-C                    310\n",
              "Erlang                         310\n",
              "VBA                            149"
            ]
          },
          "metadata": {},
          "execution_count": 19
        }
      ]
    },
    {
      "cell_type": "code",
      "metadata": {
        "colab": {
          "base_uri": "https://localhost:8080/",
          "height": 202
        },
        "id": "K4ZLlUBgaHJ0",
        "outputId": "4c5a4cac-632d-4924-8f0c-2f7c3027e9d4"
      },
      "source": [
        "top5lang2 = pd.DataFrame(language2.nlargest(5, \"Respondent\"))\n",
        "\n",
        "top5lang2.reset_index(inplace=True)\n",
        "\n",
        "top5lang2.rename(columns={\"Respondent\":\"Count\"},inplace=True)\n",
        "top5lang2"
      ],
      "execution_count": 20,
      "outputs": [
        {
          "output_type": "execute_result",
          "data": {
            "text/html": [
              "<div>\n",
              "<style scoped>\n",
              "    .dataframe tbody tr th:only-of-type {\n",
              "        vertical-align: middle;\n",
              "    }\n",
              "\n",
              "    .dataframe tbody tr th {\n",
              "        vertical-align: top;\n",
              "    }\n",
              "\n",
              "    .dataframe thead th {\n",
              "        text-align: right;\n",
              "    }\n",
              "</style>\n",
              "<table border=\"1\" class=\"dataframe\">\n",
              "  <thead>\n",
              "    <tr style=\"text-align: right;\">\n",
              "      <th></th>\n",
              "      <th>LanguageDesireNextYear</th>\n",
              "      <th>Count</th>\n",
              "    </tr>\n",
              "  </thead>\n",
              "  <tbody>\n",
              "    <tr>\n",
              "      <th>0</th>\n",
              "      <td>JavaScript</td>\n",
              "      <td>6630</td>\n",
              "    </tr>\n",
              "    <tr>\n",
              "      <th>1</th>\n",
              "      <td>HTML/CSS</td>\n",
              "      <td>5328</td>\n",
              "    </tr>\n",
              "    <tr>\n",
              "      <th>2</th>\n",
              "      <td>Python</td>\n",
              "      <td>5239</td>\n",
              "    </tr>\n",
              "    <tr>\n",
              "      <th>3</th>\n",
              "      <td>SQL</td>\n",
              "      <td>5012</td>\n",
              "    </tr>\n",
              "    <tr>\n",
              "      <th>4</th>\n",
              "      <td>TypeScript</td>\n",
              "      <td>4088</td>\n",
              "    </tr>\n",
              "  </tbody>\n",
              "</table>\n",
              "</div>"
            ],
            "text/plain": [
              "  LanguageDesireNextYear  Count\n",
              "0             JavaScript   6630\n",
              "1               HTML/CSS   5328\n",
              "2                 Python   5239\n",
              "3                    SQL   5012\n",
              "4             TypeScript   4088"
            ]
          },
          "metadata": {},
          "execution_count": 20
        }
      ]
    },
    {
      "cell_type": "code",
      "metadata": {
        "colab": {
          "base_uri": "https://localhost:8080/",
          "height": 391
        },
        "id": "Sf-XdmUPaRe4",
        "outputId": "e9edb4ba-67be-4173-c410-a9888f786bea"
      },
      "source": [
        "top5lang2.plot(kind=\"bar\", x=\"LanguageDesireNextYear\", y=\"Count\", figsize=(10,5))\n",
        "plt.title(\"Top 5 Desired Programming Language\")\n",
        "plt.show()"
      ],
      "execution_count": 21,
      "outputs": [
        {
          "output_type": "display_data",
          "data": {
            "image/png": "[encoded data removed]",
            "text/plain": [
              "<Figure size 720x360 with 1 Axes>"
            ]
          },
          "metadata": {
            "needs_background": "light"
          }
        }
      ]
    },
    {
      "cell_type": "code",
      "metadata": {
        "colab": {
          "base_uri": "https://localhost:8080/"
        },
        "id": "rvC60_mlaXjq",
        "outputId": "698f62f9-2267-4e8e-bea3-8b8246179cb5"
      },
      "source": [
        "df.groupby(by=\"DatabaseWorkedWith\")[\"Respondent\"].count()"
      ],
      "execution_count": 22,
      "outputs": [
        {
          "output_type": "execute_result",
          "data": {
            "text/plain": [
              "DatabaseWorkedWith\n",
              "Cassandra                397\n",
              "Couchbase                250\n",
              "DynamoDB                 831\n",
              "Elasticsearch           1954\n",
              "Firebase                1314\n",
              "MariaDB                 1709\n",
              "Microsoft SQL Server    4110\n",
              "MongoDB                 3016\n",
              "MySQL                   5469\n",
              "Oracle                  1744\n",
              "Other(s):                728\n",
              "PostgreSQL              4097\n",
              "Redis                   2508\n",
              "SQLite                  3248\n",
              "Name: Respondent, dtype: int64"
            ]
          },
          "metadata": {},
          "execution_count": 22
        }
      ]
    },
    {
      "cell_type": "code",
      "metadata": {
        "colab": {
          "base_uri": "https://localhost:8080/",
          "height": 510
        },
        "id": "rjSb76kOagbx",
        "outputId": "d3922bc0-3b2e-4e99-bb64-fd54f4d4202b"
      },
      "source": [
        "database1 = pd.DataFrame(df.groupby(by=\"DatabaseWorkedWith\")[\"Respondent\"].count())\n",
        "\n",
        "database1.sort_values(by=\"Respondent\",ascending=False)"
      ],
      "execution_count": 23,
      "outputs": [
        {
          "output_type": "execute_result",
          "data": {
            "text/html": [
              "<div>\n",
              "<style scoped>\n",
              "    .dataframe tbody tr th:only-of-type {\n",
              "        vertical-align: middle;\n",
              "    }\n",
              "\n",
              "    .dataframe tbody tr th {\n",
              "        vertical-align: top;\n",
              "    }\n",
              "\n",
              "    .dataframe thead th {\n",
              "        text-align: right;\n",
              "    }\n",
              "</style>\n",
              "<table border=\"1\" class=\"dataframe\">\n",
              "  <thead>\n",
              "    <tr style=\"text-align: right;\">\n",
              "      <th></th>\n",
              "      <th>Respondent</th>\n",
              "    </tr>\n",
              "    <tr>\n",
              "      <th>DatabaseWorkedWith</th>\n",
              "      <th></th>\n",
              "    </tr>\n",
              "  </thead>\n",
              "  <tbody>\n",
              "    <tr>\n",
              "      <th>MySQL</th>\n",
              "      <td>5469</td>\n",
              "    </tr>\n",
              "    <tr>\n",
              "      <th>Microsoft SQL Server</th>\n",
              "      <td>4110</td>\n",
              "    </tr>\n",
              "    <tr>\n",
              "      <th>PostgreSQL</th>\n",
              "      <td>4097</td>\n",
              "    </tr>\n",
              "    <tr>\n",
              "      <th>SQLite</th>\n",
              "      <td>3248</td>\n",
              "    </tr>\n",
              "    <tr>\n",
              "      <th>MongoDB</th>\n",
              "      <td>3016</td>\n",
              "    </tr>\n",
              "    <tr>\n",
              "      <th>Redis</th>\n",
              "      <td>2508</td>\n",
              "    </tr>\n",
              "    <tr>\n",
              "      <th>Elasticsearch</th>\n",
              "      <td>1954</td>\n",
              "    </tr>\n",
              "    <tr>\n",
              "      <th>Oracle</th>\n",
              "      <td>1744</td>\n",
              "    </tr>\n",
              "    <tr>\n",
              "      <th>MariaDB</th>\n",
              "      <td>1709</td>\n",
              "    </tr>\n",
              "    <tr>\n",
              "      <th>Firebase</th>\n",
              "      <td>1314</td>\n",
              "    </tr>\n",
              "    <tr>\n",
              "      <th>DynamoDB</th>\n",
              "      <td>831</td>\n",
              "    </tr>\n",
              "    <tr>\n",
              "      <th>Other(s):</th>\n",
              "      <td>728</td>\n",
              "    </tr>\n",
              "    <tr>\n",
              "      <th>Cassandra</th>\n",
              "      <td>397</td>\n",
              "    </tr>\n",
              "    <tr>\n",
              "      <th>Couchbase</th>\n",
              "      <td>250</td>\n",
              "    </tr>\n",
              "  </tbody>\n",
              "</table>\n",
              "</div>"
            ],
            "text/plain": [
              "                      Respondent\n",
              "DatabaseWorkedWith              \n",
              "MySQL                       5469\n",
              "Microsoft SQL Server        4110\n",
              "PostgreSQL                  4097\n",
              "SQLite                      3248\n",
              "MongoDB                     3016\n",
              "Redis                       2508\n",
              "Elasticsearch               1954\n",
              "Oracle                      1744\n",
              "MariaDB                     1709\n",
              "Firebase                    1314\n",
              "DynamoDB                     831\n",
              "Other(s):                    728\n",
              "Cassandra                    397\n",
              "Couchbase                    250"
            ]
          },
          "metadata": {},
          "execution_count": 23
        }
      ]
    },
    {
      "cell_type": "code",
      "metadata": {
        "colab": {
          "base_uri": "https://localhost:8080/",
          "height": 202
        },
        "id": "4s6kLf4XaluG",
        "outputId": "3c63494b-6baa-4eea-fb4b-93bd550058d8"
      },
      "source": [
        "top5d1 = pd.DataFrame(database1.nlargest(5, \"Respondent\"))\n",
        "\n",
        "top5d1.reset_index(inplace=True)\n",
        "\n",
        "top5d1.rename(columns={\"Respondent\":\"Count\"},inplace=True)\n",
        "top5d1"
      ],
      "execution_count": 24,
      "outputs": [
        {
          "output_type": "execute_result",
          "data": {
            "text/html": [
              "<div>\n",
              "<style scoped>\n",
              "    .dataframe tbody tr th:only-of-type {\n",
              "        vertical-align: middle;\n",
              "    }\n",
              "\n",
              "    .dataframe tbody tr th {\n",
              "        vertical-align: top;\n",
              "    }\n",
              "\n",
              "    .dataframe thead th {\n",
              "        text-align: right;\n",
              "    }\n",
              "</style>\n",
              "<table border=\"1\" class=\"dataframe\">\n",
              "  <thead>\n",
              "    <tr style=\"text-align: right;\">\n",
              "      <th></th>\n",
              "      <th>DatabaseWorkedWith</th>\n",
              "      <th>Count</th>\n",
              "    </tr>\n",
              "  </thead>\n",
              "  <tbody>\n",
              "    <tr>\n",
              "      <th>0</th>\n",
              "      <td>MySQL</td>\n",
              "      <td>5469</td>\n",
              "    </tr>\n",
              "    <tr>\n",
              "      <th>1</th>\n",
              "      <td>Microsoft SQL Server</td>\n",
              "      <td>4110</td>\n",
              "    </tr>\n",
              "    <tr>\n",
              "      <th>2</th>\n",
              "      <td>PostgreSQL</td>\n",
              "      <td>4097</td>\n",
              "    </tr>\n",
              "    <tr>\n",
              "      <th>3</th>\n",
              "      <td>SQLite</td>\n",
              "      <td>3248</td>\n",
              "    </tr>\n",
              "    <tr>\n",
              "      <th>4</th>\n",
              "      <td>MongoDB</td>\n",
              "      <td>3016</td>\n",
              "    </tr>\n",
              "  </tbody>\n",
              "</table>\n",
              "</div>"
            ],
            "text/plain": [
              "     DatabaseWorkedWith  Count\n",
              "0                 MySQL   5469\n",
              "1  Microsoft SQL Server   4110\n",
              "2            PostgreSQL   4097\n",
              "3                SQLite   3248\n",
              "4               MongoDB   3016"
            ]
          },
          "metadata": {},
          "execution_count": 24
        }
      ]
    },
    {
      "cell_type": "code",
      "metadata": {
        "colab": {
          "base_uri": "https://localhost:8080/",
          "height": 444
        },
        "id": "gb_YESX3aq45",
        "outputId": "efd0fc53-db5f-43a6-d32b-9bea61550ee5"
      },
      "source": [
        "top5d1.plot(kind=\"bar\", x=\"DatabaseWorkedWith\", y=\"Count\", figsize=(10,5))\n",
        "plt.title(\"Top 5 Databases\")\n",
        "plt.show()"
      ],
      "execution_count": 25,
      "outputs": [
        {
          "output_type": "display_data",
          "data": {
            "image/png": "[encoded data removed]",
            "text/plain": [
              "<Figure size 720x360 with 1 Axes>"
            ]
          },
          "metadata": {
            "needs_background": "light"
          }
        }
      ]
    },
    {
      "cell_type": "code",
      "metadata": {
        "colab": {
          "base_uri": "https://localhost:8080/"
        },
        "id": "7qlwiQbuauCI",
        "outputId": "12a21515-bf70-46f0-85f1-9134b294abc6"
      },
      "source": [
        "df.groupby(by=\"DatabaseDesireNextYear\")[\"Respondent\"].count()"
      ],
      "execution_count": 26,
      "outputs": [
        {
          "output_type": "execute_result",
          "data": {
            "text/plain": [
              "DatabaseDesireNextYear\n",
              "Cassandra               1003\n",
              "Couchbase                390\n",
              "DynamoDB                1044\n",
              "Elasticsearch           2856\n",
              "Firebase                1650\n",
              "MariaDB                 1385\n",
              "Microsoft SQL Server    2706\n",
              "MongoDB                 3649\n",
              "MySQL                   3281\n",
              "Oracle                   870\n",
              "Other(s):                645\n",
              "PostgreSQL              4328\n",
              "Redis                   3331\n",
              "SQLite                  2437\n",
              "Name: Respondent, dtype: int64"
            ]
          },
          "metadata": {},
          "execution_count": 26
        }
      ]
    },
    {
      "cell_type": "code",
      "metadata": {
        "colab": {
          "base_uri": "https://localhost:8080/",
          "height": 510
        },
        "id": "FkOnARAvaxLB",
        "outputId": "4e8b3845-0ae4-47b3-9e29-df7e3d421d15"
      },
      "source": [
        "database2 = pd.DataFrame(df.groupby(by=\"DatabaseDesireNextYear\")[\"Respondent\"].count())\n",
        "\n",
        "database2.sort_values(by=\"Respondent\",ascending=False)"
      ],
      "execution_count": 27,
      "outputs": [
        {
          "output_type": "execute_result",
          "data": {
            "text/html": [
              "<div>\n",
              "<style scoped>\n",
              "    .dataframe tbody tr th:only-of-type {\n",
              "        vertical-align: middle;\n",
              "    }\n",
              "\n",
              "    .dataframe tbody tr th {\n",
              "        vertical-align: top;\n",
              "    }\n",
              "\n",
              "    .dataframe thead th {\n",
              "        text-align: right;\n",
              "    }\n",
              "</style>\n",
              "<table border=\"1\" class=\"dataframe\">\n",
              "  <thead>\n",
              "    <tr style=\"text-align: right;\">\n",
              "      <th></th>\n",
              "      <th>Respondent</th>\n",
              "    </tr>\n",
              "    <tr>\n",
              "      <th>DatabaseDesireNextYear</th>\n",
              "      <th></th>\n",
              "    </tr>\n",
              "  </thead>\n",
              "  <tbody>\n",
              "    <tr>\n",
              "      <th>PostgreSQL</th>\n",
              "      <td>4328</td>\n",
              "    </tr>\n",
              "    <tr>\n",
              "      <th>MongoDB</th>\n",
              "      <td>3649</td>\n",
              "    </tr>\n",
              "    <tr>\n",
              "      <th>Redis</th>\n",
              "      <td>3331</td>\n",
              "    </tr>\n",
              "    <tr>\n",
              "      <th>MySQL</th>\n",
              "      <td>3281</td>\n",
              "    </tr>\n",
              "    <tr>\n",
              "      <th>Elasticsearch</th>\n",
              "      <td>2856</td>\n",
              "    </tr>\n",
              "    <tr>\n",
              "      <th>Microsoft SQL Server</th>\n",
              "      <td>2706</td>\n",
              "    </tr>\n",
              "    <tr>\n",
              "      <th>SQLite</th>\n",
              "      <td>2437</td>\n",
              "    </tr>\n",
              "    <tr>\n",
              "      <th>Firebase</th>\n",
              "      <td>1650</td>\n",
              "    </tr>\n",
              "    <tr>\n",
              "      <th>MariaDB</th>\n",
              "      <td>1385</td>\n",
              "    </tr>\n",
              "    <tr>\n",
              "      <th>DynamoDB</th>\n",
              "      <td>1044</td>\n",
              "    </tr>\n",
              "    <tr>\n",
              "      <th>Cassandra</th>\n",
              "      <td>1003</td>\n",
              "    </tr>\n",
              "    <tr>\n",
              "      <th>Oracle</th>\n",
              "      <td>870</td>\n",
              "    </tr>\n",
              "    <tr>\n",
              "      <th>Other(s):</th>\n",
              "      <td>645</td>\n",
              "    </tr>\n",
              "    <tr>\n",
              "      <th>Couchbase</th>\n",
              "      <td>390</td>\n",
              "    </tr>\n",
              "  </tbody>\n",
              "</table>\n",
              "</div>"
            ],
            "text/plain": [
              "                        Respondent\n",
              "DatabaseDesireNextYear            \n",
              "PostgreSQL                    4328\n",
              "MongoDB                       3649\n",
              "Redis                         3331\n",
              "MySQL                         3281\n",
              "Elasticsearch                 2856\n",
              "Microsoft SQL Server          2706\n",
              "SQLite                        2437\n",
              "Firebase                      1650\n",
              "MariaDB                       1385\n",
              "DynamoDB                      1044\n",
              "Cassandra                     1003\n",
              "Oracle                         870\n",
              "Other(s):                      645\n",
              "Couchbase                      390"
            ]
          },
          "metadata": {},
          "execution_count": 27
        }
      ]
    },
    {
      "cell_type": "code",
      "metadata": {
        "colab": {
          "base_uri": "https://localhost:8080/",
          "height": 202
        },
        "id": "QPHmp8nXaz4j",
        "outputId": "6ff27d66-53d1-4356-c7e2-b86bc7e15b0d"
      },
      "source": [
        "top5d2 = pd.DataFrame(database2.nlargest(5, \"Respondent\"))\n",
        "\n",
        "top5d2.reset_index(inplace=True)\n",
        "\n",
        "top5d2.rename(columns={\"Respondent\":\"Count\"},inplace=True)\n",
        "top5d2"
      ],
      "execution_count": 28,
      "outputs": [
        {
          "output_type": "execute_result",
          "data": {
            "text/html": [
              "<div>\n",
              "<style scoped>\n",
              "    .dataframe tbody tr th:only-of-type {\n",
              "        vertical-align: middle;\n",
              "    }\n",
              "\n",
              "    .dataframe tbody tr th {\n",
              "        vertical-align: top;\n",
              "    }\n",
              "\n",
              "    .dataframe thead th {\n",
              "        text-align: right;\n",
              "    }\n",
              "</style>\n",
              "<table border=\"1\" class=\"dataframe\">\n",
              "  <thead>\n",
              "    <tr style=\"text-align: right;\">\n",
              "      <th></th>\n",
              "      <th>DatabaseDesireNextYear</th>\n",
              "      <th>Count</th>\n",
              "    </tr>\n",
              "  </thead>\n",
              "  <tbody>\n",
              "    <tr>\n",
              "      <th>0</th>\n",
              "      <td>PostgreSQL</td>\n",
              "      <td>4328</td>\n",
              "    </tr>\n",
              "    <tr>\n",
              "      <th>1</th>\n",
              "      <td>MongoDB</td>\n",
              "      <td>3649</td>\n",
              "    </tr>\n",
              "    <tr>\n",
              "      <th>2</th>\n",
              "      <td>Redis</td>\n",
              "      <td>3331</td>\n",
              "    </tr>\n",
              "    <tr>\n",
              "      <th>3</th>\n",
              "      <td>MySQL</td>\n",
              "      <td>3281</td>\n",
              "    </tr>\n",
              "    <tr>\n",
              "      <th>4</th>\n",
              "      <td>Elasticsearch</td>\n",
              "      <td>2856</td>\n",
              "    </tr>\n",
              "  </tbody>\n",
              "</table>\n",
              "</div>"
            ],
            "text/plain": [
              "  DatabaseDesireNextYear  Count\n",
              "0             PostgreSQL   4328\n",
              "1                MongoDB   3649\n",
              "2                  Redis   3331\n",
              "3                  MySQL   3281\n",
              "4          Elasticsearch   2856"
            ]
          },
          "metadata": {},
          "execution_count": 28
        }
      ]
    },
    {
      "cell_type": "code",
      "metadata": {
        "colab": {
          "base_uri": "https://localhost:8080/",
          "height": 406
        },
        "id": "rfUURxrda4z7",
        "outputId": "a6d4074d-fdb3-4288-c493-c651c3c8e9da"
      },
      "source": [
        "top5d2.plot(kind=\"bar\", x=\"DatabaseDesireNextYear\", y=\"Count\", figsize=(10,5))\n",
        "plt.title(\"Top 5 Databases Desired Next Year\")\n",
        "plt.show()\n"
      ],
      "execution_count": 29,
      "outputs": [
        {
          "output_type": "display_data",
          "data": {
            "image/png": "[encoded data removed]",
            "text/plain": [
              "<Figure size 720x360 with 1 Axes>"
            ]
          },
          "metadata": {
            "needs_background": "light"
          }
        }
      ]
    },
    {
      "cell_type": "code",
      "metadata": {
        "colab": {
          "base_uri": "https://localhost:8080/"
        },
        "id": "yNLu5elFa7G-",
        "outputId": "22a31d98-e822-46a7-fd51-55837464bff9"
      },
      "source": [
        "df.groupby(by=\"PlatformWorkedWith\")[\"Respondent\"].count()"
      ],
      "execution_count": 30,
      "outputs": [
        {
          "output_type": "execute_result",
          "data": {
            "text/plain": [
              "PlatformWorkedWith\n",
              "AWS                      3588\n",
              "Android                  2693\n",
              "Arduino                   914\n",
              "Docker                   4378\n",
              "Google Cloud Platform    1454\n",
              "Heroku                   1268\n",
              "IBM Cloud or Watson       215\n",
              "Kubernetes               1238\n",
              "Linux                    5811\n",
              "MacOS                    2718\n",
              "Microsoft Azure          1711\n",
              "Other(s):                 329\n",
              "Raspberry Pi             1614\n",
              "Slack                    2786\n",
              "Windows                  5563\n",
              "WordPress                1490\n",
              "iOS                      1438\n",
              "Name: Respondent, dtype: int64"
            ]
          },
          "metadata": {},
          "execution_count": 30
        }
      ]
    },
    {
      "cell_type": "code",
      "metadata": {
        "colab": {
          "base_uri": "https://localhost:8080/",
          "height": 602
        },
        "id": "pjA8kQzPa-F9",
        "outputId": "7491295a-87ac-43b6-e65a-a80d8aea2195"
      },
      "source": [
        "platform1 = pd.DataFrame(df.groupby(by=\"PlatformWorkedWith\")[\"Respondent\"].count())\n",
        "\n",
        "platform1.sort_values(by=\"Respondent\",ascending=False)"
      ],
      "execution_count": 31,
      "outputs": [
        {
          "output_type": "execute_result",
          "data": {
            "text/html": [
              "<div>\n",
              "<style scoped>\n",
              "    .dataframe tbody tr th:only-of-type {\n",
              "        vertical-align: middle;\n",
              "    }\n",
              "\n",
              "    .dataframe tbody tr th {\n",
              "        vertical-align: top;\n",
              "    }\n",
              "\n",
              "    .dataframe thead th {\n",
              "        text-align: right;\n",
              "    }\n",
              "</style>\n",
              "<table border=\"1\" class=\"dataframe\">\n",
              "  <thead>\n",
              "    <tr style=\"text-align: right;\">\n",
              "      <th></th>\n",
              "      <th>Respondent</th>\n",
              "    </tr>\n",
              "    <tr>\n",
              "      <th>PlatformWorkedWith</th>\n",
              "      <th></th>\n",
              "    </tr>\n",
              "  </thead>\n",
              "  <tbody>\n",
              "    <tr>\n",
              "      <th>Linux</th>\n",
              "      <td>5811</td>\n",
              "    </tr>\n",
              "    <tr>\n",
              "      <th>Windows</th>\n",
              "      <td>5563</td>\n",
              "    </tr>\n",
              "    <tr>\n",
              "      <th>Docker</th>\n",
              "      <td>4378</td>\n",
              "    </tr>\n",
              "    <tr>\n",
              "      <th>AWS</th>\n",
              "      <td>3588</td>\n",
              "    </tr>\n",
              "    <tr>\n",
              "      <th>Slack</th>\n",
              "      <td>2786</td>\n",
              "    </tr>\n",
              "    <tr>\n",
              "      <th>MacOS</th>\n",
              "      <td>2718</td>\n",
              "    </tr>\n",
              "    <tr>\n",
              "      <th>Android</th>\n",
              "      <td>2693</td>\n",
              "    </tr>\n",
              "    <tr>\n",
              "      <th>Microsoft Azure</th>\n",
              "      <td>1711</td>\n",
              "    </tr>\n",
              "    <tr>\n",
              "      <th>Raspberry Pi</th>\n",
              "      <td>1614</td>\n",
              "    </tr>\n",
              "    <tr>\n",
              "      <th>WordPress</th>\n",
              "      <td>1490</td>\n",
              "    </tr>\n",
              "    <tr>\n",
              "      <th>Google Cloud Platform</th>\n",
              "      <td>1454</td>\n",
              "    </tr>\n",
              "    <tr>\n",
              "      <th>iOS</th>\n",
              "      <td>1438</td>\n",
              "    </tr>\n",
              "    <tr>\n",
              "      <th>Heroku</th>\n",
              "      <td>1268</td>\n",
              "    </tr>\n",
              "    <tr>\n",
              "      <th>Kubernetes</th>\n",
              "      <td>1238</td>\n",
              "    </tr>\n",
              "    <tr>\n",
              "      <th>Arduino</th>\n",
              "      <td>914</td>\n",
              "    </tr>\n",
              "    <tr>\n",
              "      <th>Other(s):</th>\n",
              "      <td>329</td>\n",
              "    </tr>\n",
              "    <tr>\n",
              "      <th>IBM Cloud or Watson</th>\n",
              "      <td>215</td>\n",
              "    </tr>\n",
              "  </tbody>\n",
              "</table>\n",
              "</div>"
            ],
            "text/plain": [
              "                       Respondent\n",
              "PlatformWorkedWith               \n",
              "Linux                        5811\n",
              "Windows                      5563\n",
              "Docker                       4378\n",
              "AWS                          3588\n",
              "Slack                        2786\n",
              "MacOS                        2718\n",
              "Android                      2693\n",
              "Microsoft Azure              1711\n",
              "Raspberry Pi                 1614\n",
              "WordPress                    1490\n",
              "Google Cloud Platform        1454\n",
              "iOS                          1438\n",
              "Heroku                       1268\n",
              "Kubernetes                   1238\n",
              "Arduino                       914\n",
              "Other(s):                     329\n",
              "IBM Cloud or Watson           215"
            ]
          },
          "metadata": {},
          "execution_count": 31
        }
      ]
    },
    {
      "cell_type": "code",
      "metadata": {
        "colab": {
          "base_uri": "https://localhost:8080/",
          "height": 202
        },
        "id": "zbFvjNLYbBIT",
        "outputId": "3e45bb7d-8c54-444e-dc66-a41d5a8b5249"
      },
      "source": [
        "top5platform1 = pd.DataFrame(platform1.nlargest(5, \"Respondent\"))\n",
        "\n",
        "top5platform1.reset_index(inplace=True)\n",
        "\n",
        "top5platform1.rename(columns={\"Respondent\":\"Count\"},inplace=True)\n",
        "top5platform1"
      ],
      "execution_count": 33,
      "outputs": [
        {
          "output_type": "execute_result",
          "data": {
            "text/html": [
              "<div>\n",
              "<style scoped>\n",
              "    .dataframe tbody tr th:only-of-type {\n",
              "        vertical-align: middle;\n",
              "    }\n",
              "\n",
              "    .dataframe tbody tr th {\n",
              "        vertical-align: top;\n",
              "    }\n",
              "\n",
              "    .dataframe thead th {\n",
              "        text-align: right;\n",
              "    }\n",
              "</style>\n",
              "<table border=\"1\" class=\"dataframe\">\n",
              "  <thead>\n",
              "    <tr style=\"text-align: right;\">\n",
              "      <th></th>\n",
              "      <th>PlatformWorkedWith</th>\n",
              "      <th>Count</th>\n",
              "    </tr>\n",
              "  </thead>\n",
              "  <tbody>\n",
              "    <tr>\n",
              "      <th>0</th>\n",
              "      <td>Linux</td>\n",
              "      <td>5811</td>\n",
              "    </tr>\n",
              "    <tr>\n",
              "      <th>1</th>\n",
              "      <td>Windows</td>\n",
              "      <td>5563</td>\n",
              "    </tr>\n",
              "    <tr>\n",
              "      <th>2</th>\n",
              "      <td>Docker</td>\n",
              "      <td>4378</td>\n",
              "    </tr>\n",
              "    <tr>\n",
              "      <th>3</th>\n",
              "      <td>AWS</td>\n",
              "      <td>3588</td>\n",
              "    </tr>\n",
              "    <tr>\n",
              "      <th>4</th>\n",
              "      <td>Slack</td>\n",
              "      <td>2786</td>\n",
              "    </tr>\n",
              "  </tbody>\n",
              "</table>\n",
              "</div>"
            ],
            "text/plain": [
              "  PlatformWorkedWith  Count\n",
              "0              Linux   5811\n",
              "1            Windows   5563\n",
              "2             Docker   4378\n",
              "3                AWS   3588\n",
              "4              Slack   2786"
            ]
          },
          "metadata": {},
          "execution_count": 33
        }
      ]
    },
    {
      "cell_type": "code",
      "metadata": {
        "colab": {
          "base_uri": "https://localhost:8080/",
          "height": 384
        },
        "id": "-jSIswJjbIG5",
        "outputId": "41f4e963-8437-4a6f-8389-5f503c0f1d64"
      },
      "source": [
        "top5platform1.plot(kind=\"bar\", x=\"PlatformWorkedWith\", y=\"Count\", figsize=(10,5))\n",
        "plt.title(\"Top 5 Platforms\")\n",
        "plt.show()"
      ],
      "execution_count": 34,
      "outputs": [
        {
          "output_type": "display_data",
          "data": {
            "image/png": "[encoded data removed]",
            "text/plain": [
              "<Figure size 720x360 with 1 Axes>"
            ]
          },
          "metadata": {
            "needs_background": "light"
          }
        }
      ]
    },
    {
      "cell_type": "code",
      "metadata": {
        "colab": {
          "base_uri": "https://localhost:8080/"
        },
        "id": "xpoSxozkbKUf",
        "outputId": "f387aed2-6bfd-4de4-befd-c447a255917c"
      },
      "source": [
        "df.groupby(by=\"PlatformDesireNextYear\")[\"Respondent\"].count()"
      ],
      "execution_count": 35,
      "outputs": [
        {
          "output_type": "execute_result",
          "data": {
            "text/plain": [
              "PlatformDesireNextYear\n",
              "AWS                      4442\n",
              "Android                  3231\n",
              "Arduino                  1399\n",
              "Docker                   5804\n",
              "Google Cloud Platform    2401\n",
              "Heroku                   1121\n",
              "IBM Cloud or Watson       373\n",
              "Kubernetes               3201\n",
              "Linux                    5865\n",
              "MacOS                    2593\n",
              "Microsoft Azure          2114\n",
              "Other(s):                 307\n",
              "Raspberry Pi             2525\n",
              "Slack                    2359\n",
              "Windows                  3888\n",
              "WordPress                 704\n",
              "iOS                      1987\n",
              "Name: Respondent, dtype: int64"
            ]
          },
          "metadata": {},
          "execution_count": 35
        }
      ]
    },
    {
      "cell_type": "code",
      "metadata": {
        "colab": {
          "base_uri": "https://localhost:8080/",
          "height": 602
        },
        "id": "LqerJdnubNsB",
        "outputId": "82181557-601c-471d-a56a-18e63606bc39"
      },
      "source": [
        "platform2 = pd.DataFrame(df.groupby(by=\"PlatformDesireNextYear\")[\"Respondent\"].count())\n",
        "\n",
        "platform2.sort_values(by=\"Respondent\",ascending=False)"
      ],
      "execution_count": 36,
      "outputs": [
        {
          "output_type": "execute_result",
          "data": {
            "text/html": [
              "<div>\n",
              "<style scoped>\n",
              "    .dataframe tbody tr th:only-of-type {\n",
              "        vertical-align: middle;\n",
              "    }\n",
              "\n",
              "    .dataframe tbody tr th {\n",
              "        vertical-align: top;\n",
              "    }\n",
              "\n",
              "    .dataframe thead th {\n",
              "        text-align: right;\n",
              "    }\n",
              "</style>\n",
              "<table border=\"1\" class=\"dataframe\">\n",
              "  <thead>\n",
              "    <tr style=\"text-align: right;\">\n",
              "      <th></th>\n",
              "      <th>Respondent</th>\n",
              "    </tr>\n",
              "    <tr>\n",
              "      <th>PlatformDesireNextYear</th>\n",
              "      <th></th>\n",
              "    </tr>\n",
              "  </thead>\n",
              "  <tbody>\n",
              "    <tr>\n",
              "      <th>Linux</th>\n",
              "      <td>5865</td>\n",
              "    </tr>\n",
              "    <tr>\n",
              "      <th>Docker</th>\n",
              "      <td>5804</td>\n",
              "    </tr>\n",
              "    <tr>\n",
              "      <th>AWS</th>\n",
              "      <td>4442</td>\n",
              "    </tr>\n",
              "    <tr>\n",
              "      <th>Windows</th>\n",
              "      <td>3888</td>\n",
              "    </tr>\n",
              "    <tr>\n",
              "      <th>Android</th>\n",
              "      <td>3231</td>\n",
              "    </tr>\n",
              "    <tr>\n",
              "      <th>Kubernetes</th>\n",
              "      <td>3201</td>\n",
              "    </tr>\n",
              "    <tr>\n",
              "      <th>MacOS</th>\n",
              "      <td>2593</td>\n",
              "    </tr>\n",
              "    <tr>\n",
              "      <th>Raspberry Pi</th>\n",
              "      <td>2525</td>\n",
              "    </tr>\n",
              "    <tr>\n",
              "      <th>Google Cloud Platform</th>\n",
              "      <td>2401</td>\n",
              "    </tr>\n",
              "    <tr>\n",
              "      <th>Slack</th>\n",
              "      <td>2359</td>\n",
              "    </tr>\n",
              "    <tr>\n",
              "      <th>Microsoft Azure</th>\n",
              "      <td>2114</td>\n",
              "    </tr>\n",
              "    <tr>\n",
              "      <th>iOS</th>\n",
              "      <td>1987</td>\n",
              "    </tr>\n",
              "    <tr>\n",
              "      <th>Arduino</th>\n",
              "      <td>1399</td>\n",
              "    </tr>\n",
              "    <tr>\n",
              "      <th>Heroku</th>\n",
              "      <td>1121</td>\n",
              "    </tr>\n",
              "    <tr>\n",
              "      <th>WordPress</th>\n",
              "      <td>704</td>\n",
              "    </tr>\n",
              "    <tr>\n",
              "      <th>IBM Cloud or Watson</th>\n",
              "      <td>373</td>\n",
              "    </tr>\n",
              "    <tr>\n",
              "      <th>Other(s):</th>\n",
              "      <td>307</td>\n",
              "    </tr>\n",
              "  </tbody>\n",
              "</table>\n",
              "</div>"
            ],
            "text/plain": [
              "                        Respondent\n",
              "PlatformDesireNextYear            \n",
              "Linux                         5865\n",
              "Docker                        5804\n",
              "AWS                           4442\n",
              "Windows                       3888\n",
              "Android                       3231\n",
              "Kubernetes                    3201\n",
              "MacOS                         2593\n",
              "Raspberry Pi                  2525\n",
              "Google Cloud Platform         2401\n",
              "Slack                         2359\n",
              "Microsoft Azure               2114\n",
              "iOS                           1987\n",
              "Arduino                       1399\n",
              "Heroku                        1121\n",
              "WordPress                      704\n",
              "IBM Cloud or Watson            373\n",
              "Other(s):                      307"
            ]
          },
          "metadata": {},
          "execution_count": 36
        }
      ]
    },
    {
      "cell_type": "code",
      "metadata": {
        "colab": {
          "base_uri": "https://localhost:8080/",
          "height": 202
        },
        "id": "ggqhr0asbQuH",
        "outputId": "7fe2ba8a-13ca-4f08-d281-6ba244ceb03d"
      },
      "source": [
        "top5platform2 = pd.DataFrame(platform2.nlargest(5, \"Respondent\"))\n",
        "\n",
        "top5platform2.reset_index(inplace=True)\n",
        "\n",
        "top5platform2.rename(columns={\"Respondent\":\"Count\"},inplace=True)\n",
        "top5platform2"
      ],
      "execution_count": 37,
      "outputs": [
        {
          "output_type": "execute_result",
          "data": {
            "text/html": [
              "<div>\n",
              "<style scoped>\n",
              "    .dataframe tbody tr th:only-of-type {\n",
              "        vertical-align: middle;\n",
              "    }\n",
              "\n",
              "    .dataframe tbody tr th {\n",
              "        vertical-align: top;\n",
              "    }\n",
              "\n",
              "    .dataframe thead th {\n",
              "        text-align: right;\n",
              "    }\n",
              "</style>\n",
              "<table border=\"1\" class=\"dataframe\">\n",
              "  <thead>\n",
              "    <tr style=\"text-align: right;\">\n",
              "      <th></th>\n",
              "      <th>PlatformDesireNextYear</th>\n",
              "      <th>Count</th>\n",
              "    </tr>\n",
              "  </thead>\n",
              "  <tbody>\n",
              "    <tr>\n",
              "      <th>0</th>\n",
              "      <td>Linux</td>\n",
              "      <td>5865</td>\n",
              "    </tr>\n",
              "    <tr>\n",
              "      <th>1</th>\n",
              "      <td>Docker</td>\n",
              "      <td>5804</td>\n",
              "    </tr>\n",
              "    <tr>\n",
              "      <th>2</th>\n",
              "      <td>AWS</td>\n",
              "      <td>4442</td>\n",
              "    </tr>\n",
              "    <tr>\n",
              "      <th>3</th>\n",
              "      <td>Windows</td>\n",
              "      <td>3888</td>\n",
              "    </tr>\n",
              "    <tr>\n",
              "      <th>4</th>\n",
              "      <td>Android</td>\n",
              "      <td>3231</td>\n",
              "    </tr>\n",
              "  </tbody>\n",
              "</table>\n",
              "</div>"
            ],
            "text/plain": [
              "  PlatformDesireNextYear  Count\n",
              "0                  Linux   5865\n",
              "1                 Docker   5804\n",
              "2                    AWS   4442\n",
              "3                Windows   3888\n",
              "4                Android   3231"
            ]
          },
          "metadata": {},
          "execution_count": 37
        }
      ]
    },
    {
      "cell_type": "code",
      "metadata": {
        "colab": {
          "base_uri": "https://localhost:8080/",
          "height": 384
        },
        "id": "iK608PaFbVcX",
        "outputId": "2379bb7e-0b1a-4110-e298-ef2aa16a40e8"
      },
      "source": [
        "top5platform2.plot(kind=\"bar\", x=\"PlatformDesireNextYear\", y=\"Count\", figsize=(10,5))\n",
        "plt.title(\"Top 5 Platforms Desired Next Year\")\n",
        "plt.show()\n"
      ],
      "execution_count": 38,
      "outputs": [
        {
          "output_type": "display_data",
          "data": {
            "image/png": "[encoded data removed]",
            "text/plain": [
              "<Figure size 720x360 with 1 Axes>"
            ]
          },
          "metadata": {
            "needs_background": "light"
          }
        }
      ]
    },
    {
      "cell_type": "code",
      "metadata": {
        "colab": {
          "base_uri": "https://localhost:8080/"
        },
        "id": "ZNuHLsfIbXql",
        "outputId": "24f1c8af-f5c2-4a5a-eb8a-d1bb3cff897f"
      },
      "source": [
        "df.groupby(by=\"WebFrameWorkedWith\")[\"Respondent\"].count()"
      ],
      "execution_count": 39,
      "outputs": [
        {
          "output_type": "execute_result",
          "data": {
            "text/plain": [
              "WebFrameWorkedWith\n",
              "ASP.NET               3042\n",
              "Angular/Angular.js    3327\n",
              "Django                1176\n",
              "Drupal                 291\n",
              "Express               2028\n",
              "Flask                 1186\n",
              "Laravel                939\n",
              "Other(s):              814\n",
              "React.js              3302\n",
              "Ruby on Rails          856\n",
              "Spring                1728\n",
              "Vue.js                1485\n",
              "jQuery                4629\n",
              "Name: Respondent, dtype: int64"
            ]
          },
          "metadata": {},
          "execution_count": 39
        }
      ]
    },
    {
      "cell_type": "code",
      "metadata": {
        "colab": {
          "base_uri": "https://localhost:8080/",
          "height": 479
        },
        "id": "aV7oWKYEbati",
        "outputId": "177565ea-317f-4d82-a200-a081394abd61"
      },
      "source": [
        "web1 = pd.DataFrame(df.groupby(by=\"WebFrameWorkedWith\")[\"Respondent\"].count())\n",
        "\n",
        "web1.sort_values(by=\"Respondent\",ascending=False)"
      ],
      "execution_count": 40,
      "outputs": [
        {
          "output_type": "execute_result",
          "data": {
            "text/html": [
              "<div>\n",
              "<style scoped>\n",
              "    .dataframe tbody tr th:only-of-type {\n",
              "        vertical-align: middle;\n",
              "    }\n",
              "\n",
              "    .dataframe tbody tr th {\n",
              "        vertical-align: top;\n",
              "    }\n",
              "\n",
              "    .dataframe thead th {\n",
              "        text-align: right;\n",
              "    }\n",
              "</style>\n",
              "<table border=\"1\" class=\"dataframe\">\n",
              "  <thead>\n",
              "    <tr style=\"text-align: right;\">\n",
              "      <th></th>\n",
              "      <th>Respondent</th>\n",
              "    </tr>\n",
              "    <tr>\n",
              "      <th>WebFrameWorkedWith</th>\n",
              "      <th></th>\n",
              "    </tr>\n",
              "  </thead>\n",
              "  <tbody>\n",
              "    <tr>\n",
              "      <th>jQuery</th>\n",
              "      <td>4629</td>\n",
              "    </tr>\n",
              "    <tr>\n",
              "      <th>Angular/Angular.js</th>\n",
              "      <td>3327</td>\n",
              "    </tr>\n",
              "    <tr>\n",
              "      <th>React.js</th>\n",
              "      <td>3302</td>\n",
              "    </tr>\n",
              "    <tr>\n",
              "      <th>ASP.NET</th>\n",
              "      <td>3042</td>\n",
              "    </tr>\n",
              "    <tr>\n",
              "      <th>Express</th>\n",
              "      <td>2028</td>\n",
              "    </tr>\n",
              "    <tr>\n",
              "      <th>Spring</th>\n",
              "      <td>1728</td>\n",
              "    </tr>\n",
              "    <tr>\n",
              "      <th>Vue.js</th>\n",
              "      <td>1485</td>\n",
              "    </tr>\n",
              "    <tr>\n",
              "      <th>Flask</th>\n",
              "      <td>1186</td>\n",
              "    </tr>\n",
              "    <tr>\n",
              "      <th>Django</th>\n",
              "      <td>1176</td>\n",
              "    </tr>\n",
              "    <tr>\n",
              "      <th>Laravel</th>\n",
              "      <td>939</td>\n",
              "    </tr>\n",
              "    <tr>\n",
              "      <th>Ruby on Rails</th>\n",
              "      <td>856</td>\n",
              "    </tr>\n",
              "    <tr>\n",
              "      <th>Other(s):</th>\n",
              "      <td>814</td>\n",
              "    </tr>\n",
              "    <tr>\n",
              "      <th>Drupal</th>\n",
              "      <td>291</td>\n",
              "    </tr>\n",
              "  </tbody>\n",
              "</table>\n",
              "</div>"
            ],
            "text/plain": [
              "                    Respondent\n",
              "WebFrameWorkedWith            \n",
              "jQuery                    4629\n",
              "Angular/Angular.js        3327\n",
              "React.js                  3302\n",
              "ASP.NET                   3042\n",
              "Express                   2028\n",
              "Spring                    1728\n",
              "Vue.js                    1485\n",
              "Flask                     1186\n",
              "Django                    1176\n",
              "Laravel                    939\n",
              "Ruby on Rails              856\n",
              "Other(s):                  814\n",
              "Drupal                     291"
            ]
          },
          "metadata": {},
          "execution_count": 40
        }
      ]
    },
    {
      "cell_type": "code",
      "metadata": {
        "colab": {
          "base_uri": "https://localhost:8080/",
          "height": 202
        },
        "id": "Pr60PBC5beB_",
        "outputId": "b9f06941-bbb9-4f2f-f629-36d367f6f85a"
      },
      "source": [
        "webframe1 = pd.DataFrame(web1.nlargest(5, \"Respondent\"))\n",
        "\n",
        "webframe1.reset_index(inplace=True)\n",
        "\n",
        "webframe1.rename(columns={\"Respondent\":\"Count\"},inplace=True)\n",
        "webframe1"
      ],
      "execution_count": 41,
      "outputs": [
        {
          "output_type": "execute_result",
          "data": {
            "text/html": [
              "<div>\n",
              "<style scoped>\n",
              "    .dataframe tbody tr th:only-of-type {\n",
              "        vertical-align: middle;\n",
              "    }\n",
              "\n",
              "    .dataframe tbody tr th {\n",
              "        vertical-align: top;\n",
              "    }\n",
              "\n",
              "    .dataframe thead th {\n",
              "        text-align: right;\n",
              "    }\n",
              "</style>\n",
              "<table border=\"1\" class=\"dataframe\">\n",
              "  <thead>\n",
              "    <tr style=\"text-align: right;\">\n",
              "      <th></th>\n",
              "      <th>WebFrameWorkedWith</th>\n",
              "      <th>Count</th>\n",
              "    </tr>\n",
              "  </thead>\n",
              "  <tbody>\n",
              "    <tr>\n",
              "      <th>0</th>\n",
              "      <td>jQuery</td>\n",
              "      <td>4629</td>\n",
              "    </tr>\n",
              "    <tr>\n",
              "      <th>1</th>\n",
              "      <td>Angular/Angular.js</td>\n",
              "      <td>3327</td>\n",
              "    </tr>\n",
              "    <tr>\n",
              "      <th>2</th>\n",
              "      <td>React.js</td>\n",
              "      <td>3302</td>\n",
              "    </tr>\n",
              "    <tr>\n",
              "      <th>3</th>\n",
              "      <td>ASP.NET</td>\n",
              "      <td>3042</td>\n",
              "    </tr>\n",
              "    <tr>\n",
              "      <th>4</th>\n",
              "      <td>Express</td>\n",
              "      <td>2028</td>\n",
              "    </tr>\n",
              "  </tbody>\n",
              "</table>\n",
              "</div>"
            ],
            "text/plain": [
              "   WebFrameWorkedWith  Count\n",
              "0              jQuery   4629\n",
              "1  Angular/Angular.js   3327\n",
              "2            React.js   3302\n",
              "3             ASP.NET   3042\n",
              "4             Express   2028"
            ]
          },
          "metadata": {},
          "execution_count": 41
        }
      ]
    },
    {
      "cell_type": "code",
      "metadata": {
        "colab": {
          "base_uri": "https://localhost:8080/",
          "height": 432
        },
        "id": "G9TC0Kfdbjwo",
        "outputId": "6ae5743d-519b-485d-ee5c-70d3e7f8cb1d"
      },
      "source": [
        "webframe1.plot(kind=\"bar\", x=\"WebFrameWorkedWith\", y=\"Count\", figsize=(10,5))\n",
        "plt.title(\"Top 5 Web Frameworks\")\n",
        "plt.show()"
      ],
      "execution_count": 42,
      "outputs": [
        {
          "output_type": "display_data",
          "data": {
            "image/png": "[encoded data removed]",
            "text/plain": [
              "<Figure size 720x360 with 1 Axes>"
            ]
          },
          "metadata": {
            "needs_background": "light"
          }
        }
      ]
    },
    {
      "cell_type": "code",
      "metadata": {
        "colab": {
          "base_uri": "https://localhost:8080/"
        },
        "id": "9OQ5GgjYbmRA",
        "outputId": "9e9c611a-d8a1-4abe-ba15-267466b5a134"
      },
      "source": [
        "df.groupby(by=\"WebFrameDesireNextYear\")[\"Respondent\"].count()"
      ],
      "execution_count": 43,
      "outputs": [
        {
          "output_type": "execute_result",
          "data": {
            "text/plain": [
              "WebFrameDesireNextYear\n",
              "ASP.NET               2382\n",
              "Angular/Angular.js    3059\n",
              "Django                1504\n",
              "Drupal                 168\n",
              "Express               1957\n",
              "Flask                 1240\n",
              "Laravel                863\n",
              "Other(s):              762\n",
              "React.js              4714\n",
              "Ruby on Rails          970\n",
              "Spring                1564\n",
              "Vue.js                3143\n",
              "jQuery                2241\n",
              "Name: Respondent, dtype: int64"
            ]
          },
          "metadata": {},
          "execution_count": 43
        }
      ]
    },
    {
      "cell_type": "code",
      "metadata": {
        "colab": {
          "base_uri": "https://localhost:8080/",
          "height": 479
        },
        "id": "G7hsHRNobqLw",
        "outputId": "dea7ecb7-6916-4022-e855-aead5fe7aefb"
      },
      "source": [
        "web2 = pd.DataFrame(df.groupby(by=\"WebFrameDesireNextYear\")[\"Respondent\"].count())\n",
        "web2"
      ],
      "execution_count": 44,
      "outputs": [
        {
          "output_type": "execute_result",
          "data": {
            "text/html": [
              "<div>\n",
              "<style scoped>\n",
              "    .dataframe tbody tr th:only-of-type {\n",
              "        vertical-align: middle;\n",
              "    }\n",
              "\n",
              "    .dataframe tbody tr th {\n",
              "        vertical-align: top;\n",
              "    }\n",
              "\n",
              "    .dataframe thead th {\n",
              "        text-align: right;\n",
              "    }\n",
              "</style>\n",
              "<table border=\"1\" class=\"dataframe\">\n",
              "  <thead>\n",
              "    <tr style=\"text-align: right;\">\n",
              "      <th></th>\n",
              "      <th>Respondent</th>\n",
              "    </tr>\n",
              "    <tr>\n",
              "      <th>WebFrameDesireNextYear</th>\n",
              "      <th></th>\n",
              "    </tr>\n",
              "  </thead>\n",
              "  <tbody>\n",
              "    <tr>\n",
              "      <th>ASP.NET</th>\n",
              "      <td>2382</td>\n",
              "    </tr>\n",
              "    <tr>\n",
              "      <th>Angular/Angular.js</th>\n",
              "      <td>3059</td>\n",
              "    </tr>\n",
              "    <tr>\n",
              "      <th>Django</th>\n",
              "      <td>1504</td>\n",
              "    </tr>\n",
              "    <tr>\n",
              "      <th>Drupal</th>\n",
              "      <td>168</td>\n",
              "    </tr>\n",
              "    <tr>\n",
              "      <th>Express</th>\n",
              "      <td>1957</td>\n",
              "    </tr>\n",
              "    <tr>\n",
              "      <th>Flask</th>\n",
              "      <td>1240</td>\n",
              "    </tr>\n",
              "    <tr>\n",
              "      <th>Laravel</th>\n",
              "      <td>863</td>\n",
              "    </tr>\n",
              "    <tr>\n",
              "      <th>Other(s):</th>\n",
              "      <td>762</td>\n",
              "    </tr>\n",
              "    <tr>\n",
              "      <th>React.js</th>\n",
              "      <td>4714</td>\n",
              "    </tr>\n",
              "    <tr>\n",
              "      <th>Ruby on Rails</th>\n",
              "      <td>970</td>\n",
              "    </tr>\n",
              "    <tr>\n",
              "      <th>Spring</th>\n",
              "      <td>1564</td>\n",
              "    </tr>\n",
              "    <tr>\n",
              "      <th>Vue.js</th>\n",
              "      <td>3143</td>\n",
              "    </tr>\n",
              "    <tr>\n",
              "      <th>jQuery</th>\n",
              "      <td>2241</td>\n",
              "    </tr>\n",
              "  </tbody>\n",
              "</table>\n",
              "</div>"
            ],
            "text/plain": [
              "                        Respondent\n",
              "WebFrameDesireNextYear            \n",
              "ASP.NET                       2382\n",
              "Angular/Angular.js            3059\n",
              "Django                        1504\n",
              "Drupal                         168\n",
              "Express                       1957\n",
              "Flask                         1240\n",
              "Laravel                        863\n",
              "Other(s):                      762\n",
              "React.js                      4714\n",
              "Ruby on Rails                  970\n",
              "Spring                        1564\n",
              "Vue.js                        3143\n",
              "jQuery                        2241"
            ]
          },
          "metadata": {},
          "execution_count": 44
        }
      ]
    },
    {
      "cell_type": "code",
      "metadata": {
        "colab": {
          "base_uri": "https://localhost:8080/",
          "height": 202
        },
        "id": "yz_afNHobuRm",
        "outputId": "ed7fdcfd-18a2-4b37-ee35-24e02170eaaf"
      },
      "source": [
        "webframe2 = pd.DataFrame(web2.nlargest(5, \"Respondent\"))\n",
        "\n",
        "webframe2.reset_index(inplace=True)\n",
        "\n",
        "webframe2.rename(columns={\"Respondent\":\"Count\"},inplace=True)\n",
        "webframe2"
      ],
      "execution_count": 45,
      "outputs": [
        {
          "output_type": "execute_result",
          "data": {
            "text/html": [
              "<div>\n",
              "<style scoped>\n",
              "    .dataframe tbody tr th:only-of-type {\n",
              "        vertical-align: middle;\n",
              "    }\n",
              "\n",
              "    .dataframe tbody tr th {\n",
              "        vertical-align: top;\n",
              "    }\n",
              "\n",
              "    .dataframe thead th {\n",
              "        text-align: right;\n",
              "    }\n",
              "</style>\n",
              "<table border=\"1\" class=\"dataframe\">\n",
              "  <thead>\n",
              "    <tr style=\"text-align: right;\">\n",
              "      <th></th>\n",
              "      <th>WebFrameDesireNextYear</th>\n",
              "      <th>Count</th>\n",
              "    </tr>\n",
              "  </thead>\n",
              "  <tbody>\n",
              "    <tr>\n",
              "      <th>0</th>\n",
              "      <td>React.js</td>\n",
              "      <td>4714</td>\n",
              "    </tr>\n",
              "    <tr>\n",
              "      <th>1</th>\n",
              "      <td>Vue.js</td>\n",
              "      <td>3143</td>\n",
              "    </tr>\n",
              "    <tr>\n",
              "      <th>2</th>\n",
              "      <td>Angular/Angular.js</td>\n",
              "      <td>3059</td>\n",
              "    </tr>\n",
              "    <tr>\n",
              "      <th>3</th>\n",
              "      <td>ASP.NET</td>\n",
              "      <td>2382</td>\n",
              "    </tr>\n",
              "    <tr>\n",
              "      <th>4</th>\n",
              "      <td>jQuery</td>\n",
              "      <td>2241</td>\n",
              "    </tr>\n",
              "  </tbody>\n",
              "</table>\n",
              "</div>"
            ],
            "text/plain": [
              "  WebFrameDesireNextYear  Count\n",
              "0               React.js   4714\n",
              "1                 Vue.js   3143\n",
              "2     Angular/Angular.js   3059\n",
              "3                ASP.NET   2382\n",
              "4                 jQuery   2241"
            ]
          },
          "metadata": {},
          "execution_count": 45
        }
      ]
    },
    {
      "cell_type": "code",
      "metadata": {
        "colab": {
          "base_uri": "https://localhost:8080/",
          "height": 432
        },
        "id": "gB6X0EKjby6p",
        "outputId": "40391f05-616d-418c-8481-1bc12aa8214a"
      },
      "source": [
        "webframe2.plot(kind=\"bar\", x=\"WebFrameDesireNextYear\", y=\"Count\", figsize=(10,5))\n",
        "plt.title(\"Top 5 WebFrame Desired\")\n",
        "plt.show()\n"
      ],
      "execution_count": 46,
      "outputs": [
        {
          "output_type": "display_data",
          "data": {
            "image/png": "[encoded data removed]",
            "text/plain": [
              "<Figure size 720x360 with 1 Axes>"
            ]
          },
          "metadata": {
            "needs_background": "light"
          }
        }
      ]
    },
    {
      "cell_type": "code",
      "metadata": {
        "colab": {
          "base_uri": "https://localhost:8080/"
        },
        "id": "51FIqYJnb1oR",
        "outputId": "5a34e569-db2e-46ed-a4b5-97bb959fafc5"
      },
      "source": [
        "df.groupby(by=\"DevEnviron\")[\"Respondent\"].count()"
      ],
      "execution_count": 47,
      "outputs": [
        {
          "output_type": "execute_result",
          "data": {
            "text/plain": [
              "DevEnviron\n",
              "Android Studio        1691\n",
              "Atom                  1322\n",
              "Coda                    52\n",
              "Eclipse               1373\n",
              "Emacs                  448\n",
              "IPython / Jupyter      995\n",
              "IntelliJ              3094\n",
              "Komodo                  25\n",
              "Light Table              7\n",
              "NetBeans               519\n",
              "Notepad++             3439\n",
              "PHPStorm               936\n",
              "PyCharm               1448\n",
              "RStudio                314\n",
              "RubyMine               170\n",
              "Sublime Text          2638\n",
              "TextMate                74\n",
              "Vim                   3040\n",
              "Visual Studio         4027\n",
              "Visual Studio Code    6639\n",
              "Xcode                 1037\n",
              "Zend                    18\n",
              "Name: Respondent, dtype: int64"
            ]
          },
          "metadata": {},
          "execution_count": 47
        }
      ]
    },
    {
      "cell_type": "code",
      "metadata": {
        "colab": {
          "base_uri": "https://localhost:8080/",
          "height": 756
        },
        "id": "3V8vae_sb4rq",
        "outputId": "4ae89a21-c498-4ff9-a771-61969a675719"
      },
      "source": [
        "dev = pd.DataFrame(df.groupby(by=\"DevEnviron\")[\"Respondent\"].count())\n",
        "\n",
        "dev.sort_values(by=\"Respondent\",ascending=False)"
      ],
      "execution_count": 48,
      "outputs": [
        {
          "output_type": "execute_result",
          "data": {
            "text/html": [
              "<div>\n",
              "<style scoped>\n",
              "    .dataframe tbody tr th:only-of-type {\n",
              "        vertical-align: middle;\n",
              "    }\n",
              "\n",
              "    .dataframe tbody tr th {\n",
              "        vertical-align: top;\n",
              "    }\n",
              "\n",
              "    .dataframe thead th {\n",
              "        text-align: right;\n",
              "    }\n",
              "</style>\n",
              "<table border=\"1\" class=\"dataframe\">\n",
              "  <thead>\n",
              "    <tr style=\"text-align: right;\">\n",
              "      <th></th>\n",
              "      <th>Respondent</th>\n",
              "    </tr>\n",
              "    <tr>\n",
              "      <th>DevEnviron</th>\n",
              "      <th></th>\n",
              "    </tr>\n",
              "  </thead>\n",
              "  <tbody>\n",
              "    <tr>\n",
              "      <th>Visual Studio Code</th>\n",
              "      <td>6639</td>\n",
              "    </tr>\n",
              "    <tr>\n",
              "      <th>Visual Studio</th>\n",
              "      <td>4027</td>\n",
              "    </tr>\n",
              "    <tr>\n",
              "      <th>Notepad++</th>\n",
              "      <td>3439</td>\n",
              "    </tr>\n",
              "    <tr>\n",
              "      <th>IntelliJ</th>\n",
              "      <td>3094</td>\n",
              "    </tr>\n",
              "    <tr>\n",
              "      <th>Vim</th>\n",
              "      <td>3040</td>\n",
              "    </tr>\n",
              "    <tr>\n",
              "      <th>Sublime Text</th>\n",
              "      <td>2638</td>\n",
              "    </tr>\n",
              "    <tr>\n",
              "      <th>Android Studio</th>\n",
              "      <td>1691</td>\n",
              "    </tr>\n",
              "    <tr>\n",
              "      <th>PyCharm</th>\n",
              "      <td>1448</td>\n",
              "    </tr>\n",
              "    <tr>\n",
              "      <th>Eclipse</th>\n",
              "      <td>1373</td>\n",
              "    </tr>\n",
              "    <tr>\n",
              "      <th>Atom</th>\n",
              "      <td>1322</td>\n",
              "    </tr>\n",
              "    <tr>\n",
              "      <th>Xcode</th>\n",
              "      <td>1037</td>\n",
              "    </tr>\n",
              "    <tr>\n",
              "      <th>IPython / Jupyter</th>\n",
              "      <td>995</td>\n",
              "    </tr>\n",
              "    <tr>\n",
              "      <th>PHPStorm</th>\n",
              "      <td>936</td>\n",
              "    </tr>\n",
              "    <tr>\n",
              "      <th>NetBeans</th>\n",
              "      <td>519</td>\n",
              "    </tr>\n",
              "    <tr>\n",
              "      <th>Emacs</th>\n",
              "      <td>448</td>\n",
              "    </tr>\n",
              "    <tr>\n",
              "      <th>RStudio</th>\n",
              "      <td>314</td>\n",
              "    </tr>\n",
              "    <tr>\n",
              "      <th>RubyMine</th>\n",
              "      <td>170</td>\n",
              "    </tr>\n",
              "    <tr>\n",
              "      <th>TextMate</th>\n",
              "      <td>74</td>\n",
              "    </tr>\n",
              "    <tr>\n",
              "      <th>Coda</th>\n",
              "      <td>52</td>\n",
              "    </tr>\n",
              "    <tr>\n",
              "      <th>Komodo</th>\n",
              "      <td>25</td>\n",
              "    </tr>\n",
              "    <tr>\n",
              "      <th>Zend</th>\n",
              "      <td>18</td>\n",
              "    </tr>\n",
              "    <tr>\n",
              "      <th>Light Table</th>\n",
              "      <td>7</td>\n",
              "    </tr>\n",
              "  </tbody>\n",
              "</table>\n",
              "</div>"
            ],
            "text/plain": [
              "                    Respondent\n",
              "DevEnviron                    \n",
              "Visual Studio Code        6639\n",
              "Visual Studio             4027\n",
              "Notepad++                 3439\n",
              "IntelliJ                  3094\n",
              "Vim                       3040\n",
              "Sublime Text              2638\n",
              "Android Studio            1691\n",
              "PyCharm                   1448\n",
              "Eclipse                   1373\n",
              "Atom                      1322\n",
              "Xcode                     1037\n",
              "IPython / Jupyter          995\n",
              "PHPStorm                   936\n",
              "NetBeans                   519\n",
              "Emacs                      448\n",
              "RStudio                    314\n",
              "RubyMine                   170\n",
              "TextMate                    74\n",
              "Coda                        52\n",
              "Komodo                      25\n",
              "Zend                        18\n",
              "Light Table                  7"
            ]
          },
          "metadata": {},
          "execution_count": 48
        }
      ]
    },
    {
      "cell_type": "code",
      "metadata": {
        "colab": {
          "base_uri": "https://localhost:8080/",
          "height": 202
        },
        "id": "XI0vsoZCb8-W",
        "outputId": "a92d32d2-f010-45a1-8bca-a3fbab3f0160"
      },
      "source": [
        "top5dev = pd.DataFrame(dev.nlargest(5, \"Respondent\"))\n",
        "\n",
        "top5dev.reset_index(inplace=True)\n",
        "\n",
        "top5dev.rename(columns={\"Respondent\":\"Count\"},inplace=True)\n",
        "top5dev"
      ],
      "execution_count": 49,
      "outputs": [
        {
          "output_type": "execute_result",
          "data": {
            "text/html": [
              "<div>\n",
              "<style scoped>\n",
              "    .dataframe tbody tr th:only-of-type {\n",
              "        vertical-align: middle;\n",
              "    }\n",
              "\n",
              "    .dataframe tbody tr th {\n",
              "        vertical-align: top;\n",
              "    }\n",
              "\n",
              "    .dataframe thead th {\n",
              "        text-align: right;\n",
              "    }\n",
              "</style>\n",
              "<table border=\"1\" class=\"dataframe\">\n",
              "  <thead>\n",
              "    <tr style=\"text-align: right;\">\n",
              "      <th></th>\n",
              "      <th>DevEnviron</th>\n",
              "      <th>Count</th>\n",
              "    </tr>\n",
              "  </thead>\n",
              "  <tbody>\n",
              "    <tr>\n",
              "      <th>0</th>\n",
              "      <td>Visual Studio Code</td>\n",
              "      <td>6639</td>\n",
              "    </tr>\n",
              "    <tr>\n",
              "      <th>1</th>\n",
              "      <td>Visual Studio</td>\n",
              "      <td>4027</td>\n",
              "    </tr>\n",
              "    <tr>\n",
              "      <th>2</th>\n",
              "      <td>Notepad++</td>\n",
              "      <td>3439</td>\n",
              "    </tr>\n",
              "    <tr>\n",
              "      <th>3</th>\n",
              "      <td>IntelliJ</td>\n",
              "      <td>3094</td>\n",
              "    </tr>\n",
              "    <tr>\n",
              "      <th>4</th>\n",
              "      <td>Vim</td>\n",
              "      <td>3040</td>\n",
              "    </tr>\n",
              "  </tbody>\n",
              "</table>\n",
              "</div>"
            ],
            "text/plain": [
              "           DevEnviron  Count\n",
              "0  Visual Studio Code   6639\n",
              "1       Visual Studio   4027\n",
              "2           Notepad++   3439\n",
              "3            IntelliJ   3094\n",
              "4                 Vim   3040"
            ]
          },
          "metadata": {},
          "execution_count": 49
        }
      ]
    },
    {
      "cell_type": "code",
      "metadata": {
        "colab": {
          "base_uri": "https://localhost:8080/",
          "height": 433
        },
        "id": "HoN0xnLEcCz-",
        "outputId": "5f555f84-9822-4ee8-e8f0-8bdaa6aa1c1e"
      },
      "source": [
        "top5dev.plot(kind=\"bar\", x=\"DevEnviron\", y=\"Count\", figsize=(10,5))\n",
        "plt.title(\"Top 5 Development Environments\")\n",
        "plt.show()"
      ],
      "execution_count": 50,
      "outputs": [
        {
          "output_type": "display_data",
          "data": {
            "image/png": "[encoded data removed]",
            "text/plain": [
              "<Figure size 720x360 with 1 Axes>"
            ]
          },
          "metadata": {
            "needs_background": "light"
          }
        }
      ]
    },
    {
      "cell_type": "code",
      "metadata": {
        "colab": {
          "base_uri": "https://localhost:8080/"
        },
        "id": "0jz9npC5cFXx",
        "outputId": "d609fffe-2b37-4078-a31f-7e981bdd2a43"
      },
      "source": [
        "df.groupby(by=\"OpSys\")[\"Respondent\"].count()"
      ],
      "execution_count": 51,
      "outputs": [
        {
          "output_type": "execute_result",
          "data": {
            "text/plain": [
              "Series([], Name: Respondent, dtype: int64)"
            ]
          },
          "metadata": {},
          "execution_count": 51
        }
      ]
    },
    {
      "cell_type": "code",
      "metadata": {
        "colab": {
          "base_uri": "https://localhost:8080/"
        },
        "id": "GLuPwvzMcIZd",
        "outputId": "65462ec0-2db4-408d-e87a-7bca8063f6e9"
      },
      "source": [
        "df.groupby(by=\"Containers\")[\"Respondent\"].count()"
      ],
      "execution_count": 52,
      "outputs": [
        {
          "output_type": "execute_result",
          "data": {
            "text/plain": [
              "Series([], Name: Respondent, dtype: int64)"
            ]
          },
          "metadata": {},
          "execution_count": 52
        }
      ]
    },
    {
      "cell_type": "code",
      "metadata": {
        "colab": {
          "base_uri": "https://localhost:8080/"
        },
        "id": "VGUZezv1cKTU",
        "outputId": "a9944d51-0af2-464a-8f7b-f2b7bafa4592"
      },
      "source": [
        "df.groupby(by=\"BlockchainOrg\")[\"Respondent\"].count()"
      ],
      "execution_count": 53,
      "outputs": [
        {
          "output_type": "execute_result",
          "data": {
            "text/plain": [
              "Series([], Name: Respondent, dtype: int64)"
            ]
          },
          "metadata": {},
          "execution_count": 53
        }
      ]
    },
    {
      "cell_type": "code",
      "metadata": {
        "colab": {
          "base_uri": "https://localhost:8080/"
        },
        "id": "WleP3HBfcL3j",
        "outputId": "dba4c769-1c8a-4f53-9c41-7c5c0b12aeaf"
      },
      "source": [
        "df.groupby(by=\"BlockchainIs\")[\"Respondent\"].count()"
      ],
      "execution_count": 54,
      "outputs": [
        {
          "output_type": "execute_result",
          "data": {
            "text/plain": [
              "Series([], Name: Respondent, dtype: int64)"
            ]
          },
          "metadata": {},
          "execution_count": 54
        }
      ]
    },
    {
      "cell_type": "code",
      "metadata": {
        "colab": {
          "base_uri": "https://localhost:8080/",
          "height": 519
        },
        "id": "kWnNaEtmcODI",
        "outputId": "b398acf3-b0d6-4c1f-9fe1-1a6a07214936"
      },
      "source": [
        "respondent.hist(bins=50, figsize=(20,10))\n",
        "plt.suptitle('Feature Distribution', x=0.5, y=1.02, ha='center', fontsize='large')\n",
        "plt.tight_layout()\n",
        "plt.show()"
      ],
      "execution_count": 55,
      "outputs": [
        {
          "output_type": "display_data",
          "data": {
            "image/png": "[encoded data removed]",
            "text/plain": [
              "<Figure size 1440x720 with 16 Axes>"
            ]
          },
          "metadata": {
            "needs_background": "light"
          }
        }
      ]
    },
    {
      "cell_type": "code",
      "metadata": {
        "colab": {
          "base_uri": "https://localhost:8080/",
          "height": 519
        },
        "id": "ILw1jlwncRte",
        "outputId": "f0531b25-0597-45ad-9b07-43016af55217"
      },
      "source": [
        "respondent.boxplot(figsize=(20,10))\n",
        "plt.suptitle('BoxPlot', x=0.5, y=1.02, ha='center', fontsize='large')\n",
        "plt.xticks(rotation=45)\n",
        "plt.tight_layout()\n",
        "plt.show()"
      ],
      "execution_count": 56,
      "outputs": [
        {
          "output_type": "display_data",
          "data": {
            "image/png": "[encoded data removed]",
            "text/plain": [
              "<Figure size 1440x720 with 1 Axes>"
            ]
          },
          "metadata": {
            "needs_background": "light"
          }
        }
      ]
    },
    {
      "cell_type": "code",
      "metadata": {
        "colab": {
          "base_uri": "https://localhost:8080/",
          "height": 468
        },
        "id": "UxKMK1U-cVxv",
        "outputId": "fdd9d0cd-ed12-4d49-ed8a-6033dd9f773c"
      },
      "source": [
        "respondent.corr()"
      ],
      "execution_count": 57,
      "outputs": [
        {
          "output_type": "execute_result",
          "data": {
            "text/html": [
              "<div>\n",
              "<style scoped>\n",
              "    .dataframe tbody tr th:only-of-type {\n",
              "        vertical-align: middle;\n",
              "    }\n",
              "\n",
              "    .dataframe tbody tr th {\n",
              "        vertical-align: top;\n",
              "    }\n",
              "\n",
              "    .dataframe thead th {\n",
              "        text-align: right;\n",
              "    }\n",
              "</style>\n",
              "<table border=\"1\" class=\"dataframe\">\n",
              "  <thead>\n",
              "    <tr style=\"text-align: right;\">\n",
              "      <th></th>\n",
              "      <th>LanguageWorkedWith</th>\n",
              "      <th>LanguageDesireNextYear</th>\n",
              "      <th>DatabaseWorkedWith</th>\n",
              "      <th>DatabaseDesireNextYear</th>\n",
              "      <th>PlatformWorkedWith</th>\n",
              "      <th>PlatformDesireNextYear</th>\n",
              "      <th>WebFrameWorkedWith</th>\n",
              "      <th>WebFrameDesireNextYear</th>\n",
              "      <th>DevEnviron</th>\n",
              "      <th>OpSys</th>\n",
              "      <th>Containers</th>\n",
              "      <th>BlockchainOrg</th>\n",
              "      <th>BlockchainIs</th>\n",
              "    </tr>\n",
              "  </thead>\n",
              "  <tbody>\n",
              "    <tr>\n",
              "      <th>LanguageWorkedWith</th>\n",
              "      <td>1.000000</td>\n",
              "      <td>0.460792</td>\n",
              "      <td>0.415082</td>\n",
              "      <td>0.191688</td>\n",
              "      <td>0.407252</td>\n",
              "      <td>0.256206</td>\n",
              "      <td>0.367137</td>\n",
              "      <td>0.175266</td>\n",
              "      <td>0.321945</td>\n",
              "      <td>NaN</td>\n",
              "      <td>NaN</td>\n",
              "      <td>NaN</td>\n",
              "      <td>NaN</td>\n",
              "    </tr>\n",
              "    <tr>\n",
              "      <th>LanguageDesireNextYear</th>\n",
              "      <td>0.460792</td>\n",
              "      <td>1.000000</td>\n",
              "      <td>0.214022</td>\n",
              "      <td>0.419133</td>\n",
              "      <td>0.220766</td>\n",
              "      <td>0.446709</td>\n",
              "      <td>0.237915</td>\n",
              "      <td>0.418002</td>\n",
              "      <td>0.248577</td>\n",
              "      <td>NaN</td>\n",
              "      <td>NaN</td>\n",
              "      <td>NaN</td>\n",
              "      <td>NaN</td>\n",
              "    </tr>\n",
              "    <tr>\n",
              "      <th>DatabaseWorkedWith</th>\n",
              "      <td>0.415082</td>\n",
              "      <td>0.214022</td>\n",
              "      <td>1.000000</td>\n",
              "      <td>0.478161</td>\n",
              "      <td>0.458184</td>\n",
              "      <td>0.297837</td>\n",
              "      <td>0.409623</td>\n",
              "      <td>0.198955</td>\n",
              "      <td>0.252025</td>\n",
              "      <td>NaN</td>\n",
              "      <td>NaN</td>\n",
              "      <td>NaN</td>\n",
              "      <td>NaN</td>\n",
              "    </tr>\n",
              "    <tr>\n",
              "      <th>DatabaseDesireNextYear</th>\n",
              "      <td>0.191688</td>\n",
              "      <td>0.419133</td>\n",
              "      <td>0.478161</td>\n",
              "      <td>1.000000</td>\n",
              "      <td>0.228939</td>\n",
              "      <td>0.465375</td>\n",
              "      <td>0.253623</td>\n",
              "      <td>0.417094</td>\n",
              "      <td>0.210713</td>\n",
              "      <td>NaN</td>\n",
              "      <td>NaN</td>\n",
              "      <td>NaN</td>\n",
              "      <td>NaN</td>\n",
              "    </tr>\n",
              "    <tr>\n",
              "      <th>PlatformWorkedWith</th>\n",
              "      <td>0.407252</td>\n",
              "      <td>0.220766</td>\n",
              "      <td>0.458184</td>\n",
              "      <td>0.228939</td>\n",
              "      <td>1.000000</td>\n",
              "      <td>0.570037</td>\n",
              "      <td>0.335786</td>\n",
              "      <td>0.131975</td>\n",
              "      <td>0.248308</td>\n",
              "      <td>NaN</td>\n",
              "      <td>NaN</td>\n",
              "      <td>NaN</td>\n",
              "      <td>NaN</td>\n",
              "    </tr>\n",
              "    <tr>\n",
              "      <th>PlatformDesireNextYear</th>\n",
              "      <td>0.256206</td>\n",
              "      <td>0.446709</td>\n",
              "      <td>0.297837</td>\n",
              "      <td>0.465375</td>\n",
              "      <td>0.570037</td>\n",
              "      <td>1.000000</td>\n",
              "      <td>0.215265</td>\n",
              "      <td>0.365568</td>\n",
              "      <td>0.249996</td>\n",
              "      <td>NaN</td>\n",
              "      <td>NaN</td>\n",
              "      <td>NaN</td>\n",
              "      <td>NaN</td>\n",
              "    </tr>\n",
              "    <tr>\n",
              "      <th>WebFrameWorkedWith</th>\n",
              "      <td>0.367137</td>\n",
              "      <td>0.237915</td>\n",
              "      <td>0.409623</td>\n",
              "      <td>0.253623</td>\n",
              "      <td>0.335786</td>\n",
              "      <td>0.215265</td>\n",
              "      <td>1.000000</td>\n",
              "      <td>0.477229</td>\n",
              "      <td>0.142443</td>\n",
              "      <td>NaN</td>\n",
              "      <td>NaN</td>\n",
              "      <td>NaN</td>\n",
              "      <td>NaN</td>\n",
              "    </tr>\n",
              "    <tr>\n",
              "      <th>WebFrameDesireNextYear</th>\n",
              "      <td>0.175266</td>\n",
              "      <td>0.418002</td>\n",
              "      <td>0.198955</td>\n",
              "      <td>0.417094</td>\n",
              "      <td>0.131975</td>\n",
              "      <td>0.365568</td>\n",
              "      <td>0.477229</td>\n",
              "      <td>1.000000</td>\n",
              "      <td>0.176754</td>\n",
              "      <td>NaN</td>\n",
              "      <td>NaN</td>\n",
              "      <td>NaN</td>\n",
              "      <td>NaN</td>\n",
              "    </tr>\n",
              "    <tr>\n",
              "      <th>DevEnviron</th>\n",
              "      <td>0.321945</td>\n",
              "      <td>0.248577</td>\n",
              "      <td>0.252025</td>\n",
              "      <td>0.210713</td>\n",
              "      <td>0.248308</td>\n",
              "      <td>0.249996</td>\n",
              "      <td>0.142443</td>\n",
              "      <td>0.176754</td>\n",
              "      <td>1.000000</td>\n",
              "      <td>NaN</td>\n",
              "      <td>NaN</td>\n",
              "      <td>NaN</td>\n",
              "      <td>NaN</td>\n",
              "    </tr>\n",
              "    <tr>\n",
              "      <th>OpSys</th>\n",
              "      <td>NaN</td>\n",
              "      <td>NaN</td>\n",
              "      <td>NaN</td>\n",
              "      <td>NaN</td>\n",
              "      <td>NaN</td>\n",
              "      <td>NaN</td>\n",
              "      <td>NaN</td>\n",
              "      <td>NaN</td>\n",
              "      <td>NaN</td>\n",
              "      <td>NaN</td>\n",
              "      <td>NaN</td>\n",
              "      <td>NaN</td>\n",
              "      <td>NaN</td>\n",
              "    </tr>\n",
              "    <tr>\n",
              "      <th>Containers</th>\n",
              "      <td>NaN</td>\n",
              "      <td>NaN</td>\n",
              "      <td>NaN</td>\n",
              "      <td>NaN</td>\n",
              "      <td>NaN</td>\n",
              "      <td>NaN</td>\n",
              "      <td>NaN</td>\n",
              "      <td>NaN</td>\n",
              "      <td>NaN</td>\n",
              "      <td>NaN</td>\n",
              "      <td>NaN</td>\n",
              "      <td>NaN</td>\n",
              "      <td>NaN</td>\n",
              "    </tr>\n",
              "    <tr>\n",
              "      <th>BlockchainOrg</th>\n",
              "      <td>NaN</td>\n",
              "      <td>NaN</td>\n",
              "      <td>NaN</td>\n",
              "      <td>NaN</td>\n",
              "      <td>NaN</td>\n",
              "      <td>NaN</td>\n",
              "      <td>NaN</td>\n",
              "      <td>NaN</td>\n",
              "      <td>NaN</td>\n",
              "      <td>NaN</td>\n",
              "      <td>NaN</td>\n",
              "      <td>NaN</td>\n",
              "      <td>NaN</td>\n",
              "    </tr>\n",
              "    <tr>\n",
              "      <th>BlockchainIs</th>\n",
              "      <td>NaN</td>\n",
              "      <td>NaN</td>\n",
              "      <td>NaN</td>\n",
              "      <td>NaN</td>\n",
              "      <td>NaN</td>\n",
              "      <td>NaN</td>\n",
              "      <td>NaN</td>\n",
              "      <td>NaN</td>\n",
              "      <td>NaN</td>\n",
              "      <td>NaN</td>\n",
              "      <td>NaN</td>\n",
              "      <td>NaN</td>\n",
              "      <td>NaN</td>\n",
              "    </tr>\n",
              "  </tbody>\n",
              "</table>\n",
              "</div>"
            ],
            "text/plain": [
              "                        LanguageWorkedWith  ...  BlockchainIs\n",
              "LanguageWorkedWith                1.000000  ...           NaN\n",
              "LanguageDesireNextYear            0.460792  ...           NaN\n",
              "DatabaseWorkedWith                0.415082  ...           NaN\n",
              "DatabaseDesireNextYear            0.191688  ...           NaN\n",
              "PlatformWorkedWith                0.407252  ...           NaN\n",
              "PlatformDesireNextYear            0.256206  ...           NaN\n",
              "WebFrameWorkedWith                0.367137  ...           NaN\n",
              "WebFrameDesireNextYear            0.175266  ...           NaN\n",
              "DevEnviron                        0.321945  ...           NaN\n",
              "OpSys                                  NaN  ...           NaN\n",
              "Containers                             NaN  ...           NaN\n",
              "BlockchainOrg                          NaN  ...           NaN\n",
              "BlockchainIs                           NaN  ...           NaN\n",
              "\n",
              "[13 rows x 13 columns]"
            ]
          },
          "metadata": {},
          "execution_count": 57
        }
      ]
    },
    {
      "cell_type": "code",
      "metadata": {
        "colab": {
          "base_uri": "https://localhost:8080/",
          "height": 660
        },
        "id": "EcbVBDj2cZXe",
        "outputId": "b6aedcdc-b723-4caa-a596-7d875e8b6783"
      },
      "source": [
        "import seaborn as sns\n",
        "plt.figure(figsize=(16,9))\n",
        "sns.heatmap(respondent.corr(),cmap=\"coolwarm\",annot=True,fmt='.2f',linewidths=2)\n",
        "plt.show()\n"
      ],
      "execution_count": 59,
      "outputs": [
        {
          "output_type": "display_data",
          "data": {
            "image/png": "[encoded data removed]",
            "text/plain": [
              "<Figure size 1152x648 with 2 Axes>"
            ]
          },
          "metadata": {
            "needs_background": "light"
          }
        }
      ]
    }
  ]
}